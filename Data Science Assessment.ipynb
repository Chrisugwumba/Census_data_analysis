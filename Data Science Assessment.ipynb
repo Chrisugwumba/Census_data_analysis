{
 "cells": [
  {
   "cell_type": "markdown",
   "id": "b997d291",
   "metadata": {},
   "source": [
    "# CENSUS DATA ANALYSIS AND REPORT\n",
    "## STUDENT ID: 202250330"
   ]
  },
  {
   "cell_type": "code",
   "execution_count": 2,
   "id": "a07184ed",
   "metadata": {},
   "outputs": [],
   "source": [
    "# Importing all the libraries for the analysis\n",
    "import pandas as pd\n",
    "import seaborn as sns\n",
    "import matplotlib.pyplot as plt\n",
    "import numpy as np\n",
    "%matplotlib inline"
   ]
  },
  {
   "cell_type": "code",
   "execution_count": 3,
   "id": "5f372e3f",
   "metadata": {},
   "outputs": [],
   "source": [
    "# Importing the data set and assigning the contents of the dataset to a new DataFrame \"census_data\"\n",
    "census_data = pd.read_csv(\"census06.csv\")\n",
    "\n",
    "# Making a copy of the dataset for feature analysis of the occupation column\n",
    "census_data1 = census_data.copy()"
   ]
  },
  {
   "cell_type": "code",
   "execution_count": 5,
   "id": "c3dde6b2",
   "metadata": {},
   "outputs": [
    {
     "data": {
      "text/html": [
       "<div>\n",
       "<style scoped>\n",
       "    .dataframe tbody tr th:only-of-type {\n",
       "        vertical-align: middle;\n",
       "    }\n",
       "\n",
       "    .dataframe tbody tr th {\n",
       "        vertical-align: top;\n",
       "    }\n",
       "\n",
       "    .dataframe thead th {\n",
       "        text-align: right;\n",
       "    }\n",
       "</style>\n",
       "<table border=\"1\" class=\"dataframe\">\n",
       "  <thead>\n",
       "    <tr style=\"text-align: right;\">\n",
       "      <th></th>\n",
       "      <th>House Number</th>\n",
       "      <th>Street</th>\n",
       "      <th>First Name</th>\n",
       "      <th>Surname</th>\n",
       "      <th>Age</th>\n",
       "      <th>Relationship to Head of House</th>\n",
       "      <th>Marital Status</th>\n",
       "      <th>Gender</th>\n",
       "      <th>Occupation</th>\n",
       "      <th>Infirmity</th>\n",
       "      <th>Religion</th>\n",
       "    </tr>\n",
       "  </thead>\n",
       "  <tbody>\n",
       "    <tr>\n",
       "      <th>0</th>\n",
       "      <td>1</td>\n",
       "      <td>Scott Dale</td>\n",
       "      <td>Maureen</td>\n",
       "      <td>Cox</td>\n",
       "      <td>50</td>\n",
       "      <td>Head</td>\n",
       "      <td>Single</td>\n",
       "      <td>Female</td>\n",
       "      <td>Engineer, building services</td>\n",
       "      <td>None</td>\n",
       "      <td>Catholic</td>\n",
       "    </tr>\n",
       "    <tr>\n",
       "      <th>1</th>\n",
       "      <td>1</td>\n",
       "      <td>Scott Dale</td>\n",
       "      <td>Rhys</td>\n",
       "      <td>Brown</td>\n",
       "      <td>52</td>\n",
       "      <td>Partner</td>\n",
       "      <td>Single</td>\n",
       "      <td>Male</td>\n",
       "      <td>Engineer, mining</td>\n",
       "      <td>None</td>\n",
       "      <td>Catholic</td>\n",
       "    </tr>\n",
       "    <tr>\n",
       "      <th>2</th>\n",
       "      <td>2</td>\n",
       "      <td>Scott Dale</td>\n",
       "      <td>Lorraine</td>\n",
       "      <td>Allen</td>\n",
       "      <td>69</td>\n",
       "      <td>Head</td>\n",
       "      <td>Married</td>\n",
       "      <td>Female</td>\n",
       "      <td>Unemployed</td>\n",
       "      <td>None</td>\n",
       "      <td>Methodist</td>\n",
       "    </tr>\n",
       "    <tr>\n",
       "      <th>3</th>\n",
       "      <td>2</td>\n",
       "      <td>Scott Dale</td>\n",
       "      <td>Lewis</td>\n",
       "      <td>Allen</td>\n",
       "      <td>72</td>\n",
       "      <td>Husband</td>\n",
       "      <td>Married</td>\n",
       "      <td>Male</td>\n",
       "      <td>Retired Associate Professor</td>\n",
       "      <td>None</td>\n",
       "      <td>Methodist</td>\n",
       "    </tr>\n",
       "    <tr>\n",
       "      <th>4</th>\n",
       "      <td>3</td>\n",
       "      <td>Scott Dale</td>\n",
       "      <td>Molly</td>\n",
       "      <td>Patel</td>\n",
       "      <td>36</td>\n",
       "      <td>Head</td>\n",
       "      <td>Married</td>\n",
       "      <td>Female</td>\n",
       "      <td>Engineer, land</td>\n",
       "      <td>None</td>\n",
       "      <td>None</td>\n",
       "    </tr>\n",
       "  </tbody>\n",
       "</table>\n",
       "</div>"
      ],
      "text/plain": [
       "   House Number      Street First Name Surname Age  \\\n",
       "0             1  Scott Dale    Maureen     Cox  50   \n",
       "1             1  Scott Dale       Rhys   Brown  52   \n",
       "2             2  Scott Dale   Lorraine   Allen  69   \n",
       "3             2  Scott Dale      Lewis   Allen  72   \n",
       "4             3  Scott Dale      Molly   Patel  36   \n",
       "\n",
       "  Relationship to Head of House Marital Status  Gender  \\\n",
       "0                          Head         Single  Female   \n",
       "1                       Partner         Single    Male   \n",
       "2                          Head        Married  Female   \n",
       "3                       Husband        Married    Male   \n",
       "4                          Head        Married  Female   \n",
       "\n",
       "                    Occupation Infirmity   Religion  \n",
       "0  Engineer, building services      None   Catholic  \n",
       "1             Engineer, mining      None   Catholic  \n",
       "2                   Unemployed      None  Methodist  \n",
       "3  Retired Associate Professor      None  Methodist  \n",
       "4               Engineer, land      None       None  "
      ]
     },
     "execution_count": 5,
     "metadata": {},
     "output_type": "execute_result"
    }
   ],
   "source": [
    "# Examining the columns and the first five rows of our dataset using the .head() function\n",
    "census_data.head()"
   ]
  },
  {
   "cell_type": "code",
   "execution_count": 6,
   "id": "03be0fa5",
   "metadata": {},
   "outputs": [
    {
     "name": "stdout",
     "output_type": "stream",
     "text": [
      "<class 'pandas.core.frame.DataFrame'>\n",
      "RangeIndex: 8329 entries, 0 to 8328\n",
      "Data columns (total 11 columns):\n",
      " #   Column                         Non-Null Count  Dtype \n",
      "---  ------                         --------------  ----- \n",
      " 0   House Number                   8329 non-null   int64 \n",
      " 1   Street                         8329 non-null   object\n",
      " 2   First Name                     8329 non-null   object\n",
      " 3   Surname                        8329 non-null   object\n",
      " 4   Age                            8329 non-null   object\n",
      " 5   Relationship to Head of House  8329 non-null   object\n",
      " 6   Marital Status                 6273 non-null   object\n",
      " 7   Gender                         8329 non-null   object\n",
      " 8   Occupation                     8329 non-null   object\n",
      " 9   Infirmity                      8329 non-null   object\n",
      " 10  Religion                       6224 non-null   object\n",
      "dtypes: int64(1), object(10)\n",
      "memory usage: 715.9+ KB\n"
     ]
    }
   ],
   "source": [
    "# Examining the summary of the dataset using the .info() function\n",
    "census_data.info()"
   ]
  },
  {
   "cell_type": "code",
   "execution_count": 7,
   "id": "8509fba4",
   "metadata": {},
   "outputs": [
    {
     "data": {
      "text/plain": [
       "House Number                        0\n",
       "Street                              0\n",
       "First Name                          0\n",
       "Surname                             0\n",
       "Age                                 0\n",
       "Relationship to Head of House       0\n",
       "Marital Status                   2056\n",
       "Gender                              0\n",
       "Occupation                          0\n",
       "Infirmity                           0\n",
       "Religion                         2105\n",
       "dtype: int64"
      ]
     },
     "execution_count": 7,
     "metadata": {},
     "output_type": "execute_result"
    }
   ],
   "source": [
    "# check for missing values in the data set \n",
    "census_data.isna().sum()"
   ]
  },
  {
   "cell_type": "code",
   "execution_count": 8,
   "id": "9f69c625",
   "metadata": {},
   "outputs": [
    {
     "data": {
      "text/plain": [
       "array(['50', '52', '69', '72', '36', '42', '38', '7', '29', '32', '62',\n",
       "       '80', '56', '55', '25', '17', '63', '23', '22', '39', '41', '2',\n",
       "       '1', '67', '65', '28', '27', '5', '4', '3', '20', '19', '49',\n",
       "       '83.71794888354226', '14.0', '66', '82', '83', '44', '15', '21',\n",
       "       '46', '45', '43', '64', '59', '34', '10', '9', '35', '0', '68',\n",
       "       '48', '16', '81', '53', '8', '40', '51', '54', '58', '13', '61',\n",
       "       '26', '47', '74', '79', '75', '70', '71', '102', '73', '24', '60',\n",
       "       '30', '33', '11', '31', '61.61015620160364', '62.61015620160364',\n",
       "       '15.0', '10.0', '18', '37', '12', '14', '6', '57', '89', '85',\n",
       "       '78', '88', '91', '93', '97', '86', '77', '50.03241969022402',\n",
       "       '51.03241969022402', '1.0', '90', '76', '104', '84', ' ', '92',\n",
       "       '87', '95', '98', '105', '48.65904417229777', '50.65904417229777',\n",
       "       '12.0', '54.55812337483672', '57.55812337483672', '3.0', '0.0',\n",
       "       '106', '65.90982310589523', '68.90982310589523', '16.0', '94',\n",
       "       '101', '99', '49.62636495189123', '53.62636495189123', '5.0'],\n",
       "      dtype=object)"
      ]
     },
     "execution_count": 8,
     "metadata": {},
     "output_type": "execute_result"
    }
   ],
   "source": [
    "# initial analysis of the dataframe columns shows that the sum total of entries in each column is not equal\n",
    "# meaning that some columns has missing or empty cells\n",
    "# Also some of the columnslike Age column is an object instead of integer which means or dataset needs some cleaning. \n",
    "#E.g. Age is a numerical variable that in this case is casted as a sring object\n",
    "\n",
    "\n",
    "#using .unique() to find out the unique values in the Age Column\n",
    "census_data.Age.unique()"
   ]
  },
  {
   "cell_type": "code",
   "execution_count": 9,
   "id": "16a29134",
   "metadata": {},
   "outputs": [
    {
     "data": {
      "text/html": [
       "<div>\n",
       "<style scoped>\n",
       "    .dataframe tbody tr th:only-of-type {\n",
       "        vertical-align: middle;\n",
       "    }\n",
       "\n",
       "    .dataframe tbody tr th {\n",
       "        vertical-align: top;\n",
       "    }\n",
       "\n",
       "    .dataframe thead th {\n",
       "        text-align: right;\n",
       "    }\n",
       "</style>\n",
       "<table border=\"1\" class=\"dataframe\">\n",
       "  <thead>\n",
       "    <tr style=\"text-align: right;\">\n",
       "      <th></th>\n",
       "      <th>House Number</th>\n",
       "      <th>Street</th>\n",
       "      <th>First Name</th>\n",
       "      <th>Surname</th>\n",
       "      <th>Age</th>\n",
       "      <th>Relationship to Head of House</th>\n",
       "      <th>Marital Status</th>\n",
       "      <th>Gender</th>\n",
       "      <th>Occupation</th>\n",
       "      <th>Infirmity</th>\n",
       "      <th>Religion</th>\n",
       "    </tr>\n",
       "  </thead>\n",
       "  <tbody>\n",
       "    <tr>\n",
       "      <th>2206</th>\n",
       "      <td>17</td>\n",
       "      <td>Andrews Mill</td>\n",
       "      <td>Christopher</td>\n",
       "      <td>Johnson</td>\n",
       "      <td></td>\n",
       "      <td>Husband</td>\n",
       "      <td>Married</td>\n",
       "      <td>Male</td>\n",
       "      <td>Wellsite geologist</td>\n",
       "      <td>None</td>\n",
       "      <td>None</td>\n",
       "    </tr>\n",
       "    <tr>\n",
       "      <th>4317</th>\n",
       "      <td>47</td>\n",
       "      <td>Smith Plains</td>\n",
       "      <td>Hugh</td>\n",
       "      <td>Richards</td>\n",
       "      <td></td>\n",
       "      <td>Son</td>\n",
       "      <td>Single</td>\n",
       "      <td>Male</td>\n",
       "      <td>University Student</td>\n",
       "      <td>None</td>\n",
       "      <td>Christian</td>\n",
       "    </tr>\n",
       "  </tbody>\n",
       "</table>\n",
       "</div>"
      ],
      "text/plain": [
       "      House Number        Street   First Name   Surname Age  \\\n",
       "2206            17  Andrews Mill  Christopher   Johnson       \n",
       "4317            47  Smith Plains         Hugh  Richards       \n",
       "\n",
       "     Relationship to Head of House Marital Status Gender          Occupation  \\\n",
       "2206                       Husband        Married   Male  Wellsite geologist   \n",
       "4317                           Son         Single   Male  University Student   \n",
       "\n",
       "     Infirmity   Religion  \n",
       "2206      None       None  \n",
       "4317      None  Christian  "
      ]
     },
     "execution_count": 9,
     "metadata": {},
     "output_type": "execute_result"
    }
   ],
   "source": [
    "# Close examination of the Unique values above shows that the Age column contains empty cells\n",
    "# Listing all the row where Age column contains empty cells\n",
    "census_data[census_data.Age == ' ']"
   ]
  },
  {
   "cell_type": "markdown",
   "id": "fad56fdc",
   "metadata": {},
   "source": [
    "### Because there are empty entries in Age Column, will check the entire dataset for where there are empty calls and convert them to NAN for easy Access"
   ]
  },
  {
   "cell_type": "code",
   "execution_count": 10,
   "id": "e2ef8b92",
   "metadata": {},
   "outputs": [
    {
     "data": {
      "text/plain": [
       "House Number                        0\n",
       "Street                              0\n",
       "First Name                          1\n",
       "Surname                             1\n",
       "Age                                 2\n",
       "Relationship to Head of House       0\n",
       "Marital Status                   2059\n",
       "Gender                              0\n",
       "Occupation                          0\n",
       "Infirmity                           8\n",
       "Religion                         2109\n",
       "dtype: int64"
      ]
     },
     "execution_count": 10,
     "metadata": {},
     "output_type": "execute_result"
    }
   ],
   "source": [
    "# Repalacing all empty string in the data set with NAN\n",
    "\n",
    "census_data.replace(' ',np.nan,inplace=True)\n",
    "\n",
    "# checking the number of nana values in each column again\n",
    "census_data.isna().sum()\n"
   ]
  },
  {
   "cell_type": "code",
   "execution_count": 11,
   "id": "9e0f1c54",
   "metadata": {},
   "outputs": [],
   "source": [
    "# The above output after replacing the empty cells in the entire dataset with nana \n",
    "# shows that the following columns had empty cells\n",
    "# First Name\n",
    "# Suranme\n",
    "# Age\n",
    "# Marital Status\n",
    "# Infirmity\n",
    "# Religion"
   ]
  },
  {
   "cell_type": "markdown",
   "id": "b1194cc5",
   "metadata": {},
   "source": [
    "# Data Cleaning Using statistcial, logical and scientific reasoning\n",
    "### For the \"First Name\" and the \"Surname Column\""
   ]
  },
  {
   "cell_type": "code",
   "execution_count": 12,
   "id": "ab0c917e",
   "metadata": {},
   "outputs": [
    {
     "data": {
      "text/html": [
       "<div>\n",
       "<style scoped>\n",
       "    .dataframe tbody tr th:only-of-type {\n",
       "        vertical-align: middle;\n",
       "    }\n",
       "\n",
       "    .dataframe tbody tr th {\n",
       "        vertical-align: top;\n",
       "    }\n",
       "\n",
       "    .dataframe thead th {\n",
       "        text-align: right;\n",
       "    }\n",
       "</style>\n",
       "<table border=\"1\" class=\"dataframe\">\n",
       "  <thead>\n",
       "    <tr style=\"text-align: right;\">\n",
       "      <th></th>\n",
       "      <th>House Number</th>\n",
       "      <th>Street</th>\n",
       "      <th>First Name</th>\n",
       "      <th>Surname</th>\n",
       "      <th>Age</th>\n",
       "      <th>Relationship to Head of House</th>\n",
       "      <th>Marital Status</th>\n",
       "      <th>Gender</th>\n",
       "      <th>Occupation</th>\n",
       "      <th>Infirmity</th>\n",
       "      <th>Religion</th>\n",
       "    </tr>\n",
       "  </thead>\n",
       "  <tbody>\n",
       "    <tr>\n",
       "      <th>5553</th>\n",
       "      <td>5</td>\n",
       "      <td>Gill Mews</td>\n",
       "      <td>Owen</td>\n",
       "      <td>NaN</td>\n",
       "      <td>8</td>\n",
       "      <td>Son</td>\n",
       "      <td>NaN</td>\n",
       "      <td>Male</td>\n",
       "      <td>Student</td>\n",
       "      <td>None</td>\n",
       "      <td>NaN</td>\n",
       "    </tr>\n",
       "    <tr>\n",
       "      <th>7258</th>\n",
       "      <td>10</td>\n",
       "      <td>Thomas Drive</td>\n",
       "      <td>NaN</td>\n",
       "      <td>Taylor</td>\n",
       "      <td>59</td>\n",
       "      <td>Head</td>\n",
       "      <td>Married</td>\n",
       "      <td>Male</td>\n",
       "      <td>Health and safety adviser</td>\n",
       "      <td>None</td>\n",
       "      <td>None</td>\n",
       "    </tr>\n",
       "  </tbody>\n",
       "</table>\n",
       "</div>"
      ],
      "text/plain": [
       "      House Number        Street First Name Surname Age  \\\n",
       "5553             5     Gill Mews       Owen     NaN   8   \n",
       "7258            10  Thomas Drive        NaN  Taylor  59   \n",
       "\n",
       "     Relationship to Head of House Marital Status Gender  \\\n",
       "5553                           Son            NaN   Male   \n",
       "7258                          Head        Married   Male   \n",
       "\n",
       "                     Occupation Infirmity Religion  \n",
       "5553                    Student      None      NaN  \n",
       "7258  Health and safety adviser      None     None  "
      ]
     },
     "execution_count": 12,
     "metadata": {},
     "output_type": "execute_result"
    }
   ],
   "source": [
    "# the cleainiing of the dataset is done colunm by column \n",
    "# for the name and surname\n",
    "# printing the rows where we have nan values for either the name or 'First Name' or the 'Surname'\n",
    "census_data.loc[(census_data['First Name'].isna() |  census_data['Surname'].isna())]"
   ]
  },
  {
   "cell_type": "markdown",
   "id": "d72c79a2",
   "metadata": {},
   "source": [
    "### Using the House number and the street to deduce a logical inference of what to use to fill the missing \"Surname\" & \"First Name\" ."
   ]
  },
  {
   "cell_type": "markdown",
   "id": "d9baf8ea",
   "metadata": {},
   "source": [
    "#### For the \"First Name\""
   ]
  },
  {
   "cell_type": "code",
   "execution_count": 13,
   "id": "b9e64fd5",
   "metadata": {},
   "outputs": [
    {
     "data": {
      "text/html": [
       "<div>\n",
       "<style scoped>\n",
       "    .dataframe tbody tr th:only-of-type {\n",
       "        vertical-align: middle;\n",
       "    }\n",
       "\n",
       "    .dataframe tbody tr th {\n",
       "        vertical-align: top;\n",
       "    }\n",
       "\n",
       "    .dataframe thead th {\n",
       "        text-align: right;\n",
       "    }\n",
       "</style>\n",
       "<table border=\"1\" class=\"dataframe\">\n",
       "  <thead>\n",
       "    <tr style=\"text-align: right;\">\n",
       "      <th></th>\n",
       "      <th>House Number</th>\n",
       "      <th>Street</th>\n",
       "      <th>First Name</th>\n",
       "      <th>Surname</th>\n",
       "      <th>Age</th>\n",
       "      <th>Relationship to Head of House</th>\n",
       "      <th>Marital Status</th>\n",
       "      <th>Gender</th>\n",
       "      <th>Occupation</th>\n",
       "      <th>Infirmity</th>\n",
       "      <th>Religion</th>\n",
       "    </tr>\n",
       "  </thead>\n",
       "  <tbody>\n",
       "    <tr>\n",
       "      <th>7258</th>\n",
       "      <td>10</td>\n",
       "      <td>Thomas Drive</td>\n",
       "      <td>NaN</td>\n",
       "      <td>Taylor</td>\n",
       "      <td>59</td>\n",
       "      <td>Head</td>\n",
       "      <td>Married</td>\n",
       "      <td>Male</td>\n",
       "      <td>Health and safety adviser</td>\n",
       "      <td>None</td>\n",
       "      <td>None</td>\n",
       "    </tr>\n",
       "    <tr>\n",
       "      <th>7259</th>\n",
       "      <td>10</td>\n",
       "      <td>Thomas Drive</td>\n",
       "      <td>Kerry</td>\n",
       "      <td>Taylor</td>\n",
       "      <td>57</td>\n",
       "      <td>Wife</td>\n",
       "      <td>Married</td>\n",
       "      <td>Female</td>\n",
       "      <td>Pilot, airline</td>\n",
       "      <td>None</td>\n",
       "      <td>None</td>\n",
       "    </tr>\n",
       "  </tbody>\n",
       "</table>\n",
       "</div>"
      ],
      "text/plain": [
       "      House Number        Street First Name Surname Age  \\\n",
       "7258            10  Thomas Drive        NaN  Taylor  59   \n",
       "7259            10  Thomas Drive      Kerry  Taylor  57   \n",
       "\n",
       "     Relationship to Head of House Marital Status  Gender  \\\n",
       "7258                          Head        Married    Male   \n",
       "7259                          Wife        Married  Female   \n",
       "\n",
       "                     Occupation Infirmity Religion  \n",
       "7258  Health and safety adviser      None     None  \n",
       "7259             Pilot, airline      None     None  "
      ]
     },
     "execution_count": 13,
     "metadata": {},
     "output_type": "execute_result"
    }
   ],
   "source": [
    "# For the \"First Name\"\n",
    "census_data.loc[(census_data[\"House Number\"] == 10) & (census_data[\"Street\"]== \"Thomas Drive\")]\n"
   ]
  },
  {
   "cell_type": "code",
   "execution_count": 14,
   "id": "cec3b047",
   "metadata": {},
   "outputs": [
    {
     "data": {
      "text/html": [
       "<div>\n",
       "<style scoped>\n",
       "    .dataframe tbody tr th:only-of-type {\n",
       "        vertical-align: middle;\n",
       "    }\n",
       "\n",
       "    .dataframe tbody tr th {\n",
       "        vertical-align: top;\n",
       "    }\n",
       "\n",
       "    .dataframe thead th {\n",
       "        text-align: right;\n",
       "    }\n",
       "</style>\n",
       "<table border=\"1\" class=\"dataframe\">\n",
       "  <thead>\n",
       "    <tr style=\"text-align: right;\">\n",
       "      <th></th>\n",
       "      <th>House Number</th>\n",
       "      <th>Street</th>\n",
       "      <th>First Name</th>\n",
       "      <th>Surname</th>\n",
       "      <th>Age</th>\n",
       "      <th>Relationship to Head of House</th>\n",
       "      <th>Marital Status</th>\n",
       "      <th>Gender</th>\n",
       "      <th>Occupation</th>\n",
       "      <th>Infirmity</th>\n",
       "      <th>Religion</th>\n",
       "    </tr>\n",
       "  </thead>\n",
       "  <tbody>\n",
       "    <tr>\n",
       "      <th>1801</th>\n",
       "      <td>8</td>\n",
       "      <td>Allen Mission</td>\n",
       "      <td>Kerry</td>\n",
       "      <td>Taylor</td>\n",
       "      <td>40</td>\n",
       "      <td>Head</td>\n",
       "      <td>Single</td>\n",
       "      <td>Female</td>\n",
       "      <td>Engineer, manufacturing systems</td>\n",
       "      <td>None</td>\n",
       "      <td>None</td>\n",
       "    </tr>\n",
       "    <tr>\n",
       "      <th>7259</th>\n",
       "      <td>10</td>\n",
       "      <td>Thomas Drive</td>\n",
       "      <td>Kerry</td>\n",
       "      <td>Taylor</td>\n",
       "      <td>57</td>\n",
       "      <td>Wife</td>\n",
       "      <td>Married</td>\n",
       "      <td>Female</td>\n",
       "      <td>Pilot, airline</td>\n",
       "      <td>None</td>\n",
       "      <td>None</td>\n",
       "    </tr>\n",
       "  </tbody>\n",
       "</table>\n",
       "</div>"
      ],
      "text/plain": [
       "      House Number         Street First Name Surname Age  \\\n",
       "1801             8  Allen Mission      Kerry  Taylor  40   \n",
       "7259            10   Thomas Drive      Kerry  Taylor  57   \n",
       "\n",
       "     Relationship to Head of House Marital Status  Gender  \\\n",
       "1801                          Head         Single  Female   \n",
       "7259                          Wife        Married  Female   \n",
       "\n",
       "                           Occupation Infirmity Religion  \n",
       "1801  Engineer, manufacturing systems      None     None  \n",
       "7259                   Pilot, airline      None     None  "
      ]
     },
     "execution_count": 14,
     "metadata": {},
     "output_type": "execute_result"
    }
   ],
   "source": [
    "# From the above results, it can be logically deduced that Talyor is married to Kerry Taylor \n",
    "# Checking if there are more than one Kerry Taylor\n",
    "census_data[(census_data[\"First Name\"] == \"Kerry\") & (census_data.Surname == \"Taylor\")]"
   ]
  },
  {
   "cell_type": "code",
   "execution_count": 15,
   "id": "60609a6e",
   "metadata": {},
   "outputs": [],
   "source": [
    "# There are 2 Kerry Taylor in the dataset who live on different streets\n",
    "# Therefore i will fill the missing \"First Name\" with Thomas frim the its Street Column"
   ]
  },
  {
   "cell_type": "code",
   "execution_count": 16,
   "id": "6e8dcd37",
   "metadata": {},
   "outputs": [
    {
     "data": {
      "text/plain": [
       "0"
      ]
     },
     "execution_count": 16,
     "metadata": {},
     "output_type": "execute_result"
    }
   ],
   "source": [
    "# Since there are more than one Kerry tailer, i will use the first name in the street Colunm to replace kerry taylor\n",
    "census_data[\"First Name\"].fillna('Thomas', inplace = True)\n",
    "\n",
    "\n",
    "# Confirming the Age First name column has no more missing values\n",
    "census_data[\"First Name\"].isna().sum()"
   ]
  },
  {
   "cell_type": "markdown",
   "id": "f73c2509",
   "metadata": {},
   "source": [
    "### To fill the Surname missing values"
   ]
  },
  {
   "cell_type": "code",
   "execution_count": 17,
   "id": "637bb3ef",
   "metadata": {},
   "outputs": [
    {
     "data": {
      "text/html": [
       "<div>\n",
       "<style scoped>\n",
       "    .dataframe tbody tr th:only-of-type {\n",
       "        vertical-align: middle;\n",
       "    }\n",
       "\n",
       "    .dataframe tbody tr th {\n",
       "        vertical-align: top;\n",
       "    }\n",
       "\n",
       "    .dataframe thead th {\n",
       "        text-align: right;\n",
       "    }\n",
       "</style>\n",
       "<table border=\"1\" class=\"dataframe\">\n",
       "  <thead>\n",
       "    <tr style=\"text-align: right;\">\n",
       "      <th></th>\n",
       "      <th>House Number</th>\n",
       "      <th>Street</th>\n",
       "      <th>First Name</th>\n",
       "      <th>Surname</th>\n",
       "      <th>Age</th>\n",
       "      <th>Relationship to Head of House</th>\n",
       "      <th>Marital Status</th>\n",
       "      <th>Gender</th>\n",
       "      <th>Occupation</th>\n",
       "      <th>Infirmity</th>\n",
       "      <th>Religion</th>\n",
       "    </tr>\n",
       "  </thead>\n",
       "  <tbody>\n",
       "    <tr>\n",
       "      <th>5552</th>\n",
       "      <td>5</td>\n",
       "      <td>Gill Mews</td>\n",
       "      <td>Joyce</td>\n",
       "      <td>Adams</td>\n",
       "      <td>32</td>\n",
       "      <td>Head</td>\n",
       "      <td>Divorced</td>\n",
       "      <td>Female</td>\n",
       "      <td>Unemployed</td>\n",
       "      <td>None</td>\n",
       "      <td>None</td>\n",
       "    </tr>\n",
       "    <tr>\n",
       "      <th>5553</th>\n",
       "      <td>5</td>\n",
       "      <td>Gill Mews</td>\n",
       "      <td>Owen</td>\n",
       "      <td>NaN</td>\n",
       "      <td>8</td>\n",
       "      <td>Son</td>\n",
       "      <td>NaN</td>\n",
       "      <td>Male</td>\n",
       "      <td>Student</td>\n",
       "      <td>None</td>\n",
       "      <td>NaN</td>\n",
       "    </tr>\n",
       "    <tr>\n",
       "      <th>5554</th>\n",
       "      <td>5</td>\n",
       "      <td>Gill Mews</td>\n",
       "      <td>Aaron</td>\n",
       "      <td>Adams</td>\n",
       "      <td>7</td>\n",
       "      <td>Son</td>\n",
       "      <td>NaN</td>\n",
       "      <td>Male</td>\n",
       "      <td>Student</td>\n",
       "      <td>None</td>\n",
       "      <td>NaN</td>\n",
       "    </tr>\n",
       "  </tbody>\n",
       "</table>\n",
       "</div>"
      ],
      "text/plain": [
       "      House Number     Street First Name Surname Age  \\\n",
       "5552             5  Gill Mews      Joyce   Adams  32   \n",
       "5553             5  Gill Mews       Owen     NaN   8   \n",
       "5554             5  Gill Mews      Aaron   Adams   7   \n",
       "\n",
       "     Relationship to Head of House Marital Status  Gender  Occupation  \\\n",
       "5552                          Head       Divorced  Female  Unemployed   \n",
       "5553                           Son            NaN    Male     Student   \n",
       "5554                           Son            NaN    Male     Student   \n",
       "\n",
       "     Infirmity Religion  \n",
       "5552      None     None  \n",
       "5553      None      NaN  \n",
       "5554      None      NaN  "
      ]
     },
     "execution_count": 17,
     "metadata": {},
     "output_type": "execute_result"
    }
   ],
   "source": [
    "# Using the Street and the House number to find all thos livin on 5 Gill Mews Street\n",
    "census_data.loc[(census_data[\"House Number\"] == 5) & (census_data[\"Street\"]== \"Gill Mews\")]"
   ]
  },
  {
   "cell_type": "code",
   "execution_count": 18,
   "id": "0aac935e",
   "metadata": {},
   "outputs": [
    {
     "data": {
      "text/plain": [
       "0"
      ]
     },
     "execution_count": 18,
     "metadata": {},
     "output_type": "execute_result"
    }
   ],
   "source": [
    "# The Above Code shows that there are  3 people in the house and \n",
    "# it can be logically assumed that his Surname must be Adams\n",
    "\n",
    "# Replacing His Surname nana value with Adams\n",
    "census_data[\"Surname\"].fillna('Adams', inplace = True)\n",
    "\n",
    "# Confirming the Age First name column has no more missing values\n",
    "census_data[\"First Name\"].isna().sum()"
   ]
  },
  {
   "cell_type": "code",
   "execution_count": 19,
   "id": "e23e2930",
   "metadata": {},
   "outputs": [
    {
     "data": {
      "text/html": [
       "<div>\n",
       "<style scoped>\n",
       "    .dataframe tbody tr th:only-of-type {\n",
       "        vertical-align: middle;\n",
       "    }\n",
       "\n",
       "    .dataframe tbody tr th {\n",
       "        vertical-align: top;\n",
       "    }\n",
       "\n",
       "    .dataframe thead th {\n",
       "        text-align: right;\n",
       "    }\n",
       "</style>\n",
       "<table border=\"1\" class=\"dataframe\">\n",
       "  <thead>\n",
       "    <tr style=\"text-align: right;\">\n",
       "      <th></th>\n",
       "      <th>House Number</th>\n",
       "      <th>Street</th>\n",
       "      <th>First Name</th>\n",
       "      <th>Surname</th>\n",
       "      <th>Age</th>\n",
       "      <th>Relationship to Head of House</th>\n",
       "      <th>Marital Status</th>\n",
       "      <th>Gender</th>\n",
       "      <th>Occupation</th>\n",
       "      <th>Infirmity</th>\n",
       "      <th>Religion</th>\n",
       "    </tr>\n",
       "  </thead>\n",
       "  <tbody>\n",
       "    <tr>\n",
       "      <th>5553</th>\n",
       "      <td>5</td>\n",
       "      <td>Gill Mews</td>\n",
       "      <td>Owen</td>\n",
       "      <td>Adams</td>\n",
       "      <td>8</td>\n",
       "      <td>Son</td>\n",
       "      <td>NaN</td>\n",
       "      <td>Male</td>\n",
       "      <td>Student</td>\n",
       "      <td>None</td>\n",
       "      <td>NaN</td>\n",
       "    </tr>\n",
       "    <tr>\n",
       "      <th>7258</th>\n",
       "      <td>10</td>\n",
       "      <td>Thomas Drive</td>\n",
       "      <td>Thomas</td>\n",
       "      <td>Taylor</td>\n",
       "      <td>59</td>\n",
       "      <td>Head</td>\n",
       "      <td>Married</td>\n",
       "      <td>Male</td>\n",
       "      <td>Health and safety adviser</td>\n",
       "      <td>None</td>\n",
       "      <td>None</td>\n",
       "    </tr>\n",
       "  </tbody>\n",
       "</table>\n",
       "</div>"
      ],
      "text/plain": [
       "      House Number        Street First Name Surname Age  \\\n",
       "5553             5     Gill Mews       Owen   Adams   8   \n",
       "7258            10  Thomas Drive     Thomas  Taylor  59   \n",
       "\n",
       "     Relationship to Head of House Marital Status Gender  \\\n",
       "5553                           Son            NaN   Male   \n",
       "7258                          Head        Married   Male   \n",
       "\n",
       "                     Occupation Infirmity Religion  \n",
       "5553                    Student      None      NaN  \n",
       "7258  Health and safety adviser      None     None  "
      ]
     },
     "execution_count": 19,
     "metadata": {},
     "output_type": "execute_result"
    }
   ],
   "source": [
    "# Confirming the rwo missing values in Surname and First name has been resolved\n",
    "census_data.loc[[5553,7258]]"
   ]
  },
  {
   "cell_type": "markdown",
   "id": "8c289b3b",
   "metadata": {},
   "source": [
    "### Resolving the Age Column missing values\n"
   ]
  },
  {
   "cell_type": "code",
   "execution_count": 20,
   "id": "2e1966d1",
   "metadata": {},
   "outputs": [
    {
     "data": {
      "text/html": [
       "<div>\n",
       "<style scoped>\n",
       "    .dataframe tbody tr th:only-of-type {\n",
       "        vertical-align: middle;\n",
       "    }\n",
       "\n",
       "    .dataframe tbody tr th {\n",
       "        vertical-align: top;\n",
       "    }\n",
       "\n",
       "    .dataframe thead th {\n",
       "        text-align: right;\n",
       "    }\n",
       "</style>\n",
       "<table border=\"1\" class=\"dataframe\">\n",
       "  <thead>\n",
       "    <tr style=\"text-align: right;\">\n",
       "      <th></th>\n",
       "      <th>House Number</th>\n",
       "      <th>Street</th>\n",
       "      <th>First Name</th>\n",
       "      <th>Surname</th>\n",
       "      <th>Age</th>\n",
       "      <th>Relationship to Head of House</th>\n",
       "      <th>Marital Status</th>\n",
       "      <th>Gender</th>\n",
       "      <th>Occupation</th>\n",
       "      <th>Infirmity</th>\n",
       "      <th>Religion</th>\n",
       "    </tr>\n",
       "  </thead>\n",
       "  <tbody>\n",
       "    <tr>\n",
       "      <th>2206</th>\n",
       "      <td>17</td>\n",
       "      <td>Andrews Mill</td>\n",
       "      <td>Christopher</td>\n",
       "      <td>Johnson</td>\n",
       "      <td>NaN</td>\n",
       "      <td>Husband</td>\n",
       "      <td>Married</td>\n",
       "      <td>Male</td>\n",
       "      <td>Wellsite geologist</td>\n",
       "      <td>None</td>\n",
       "      <td>None</td>\n",
       "    </tr>\n",
       "    <tr>\n",
       "      <th>4317</th>\n",
       "      <td>47</td>\n",
       "      <td>Smith Plains</td>\n",
       "      <td>Hugh</td>\n",
       "      <td>Richards</td>\n",
       "      <td>NaN</td>\n",
       "      <td>Son</td>\n",
       "      <td>Single</td>\n",
       "      <td>Male</td>\n",
       "      <td>University Student</td>\n",
       "      <td>None</td>\n",
       "      <td>Christian</td>\n",
       "    </tr>\n",
       "  </tbody>\n",
       "</table>\n",
       "</div>"
      ],
      "text/plain": [
       "      House Number        Street   First Name   Surname  Age  \\\n",
       "2206            17  Andrews Mill  Christopher   Johnson  NaN   \n",
       "4317            47  Smith Plains         Hugh  Richards  NaN   \n",
       "\n",
       "     Relationship to Head of House Marital Status Gender          Occupation  \\\n",
       "2206                       Husband        Married   Male  Wellsite geologist   \n",
       "4317                           Son         Single   Male  University Student   \n",
       "\n",
       "     Infirmity   Religion  \n",
       "2206      None       None  \n",
       "4317      None  Christian  "
      ]
     },
     "execution_count": 20,
     "metadata": {},
     "output_type": "execute_result"
    }
   ],
   "source": [
    "### The rows where there are missing values in the Age column is below\n",
    "census_data.loc[census_data.Age.isna()]"
   ]
  },
  {
   "cell_type": "code",
   "execution_count": 21,
   "id": "de4e452b",
   "metadata": {},
   "outputs": [],
   "source": [
    "# There are two values here. \n",
    "# I Will Use the age of the wife in the same household considerting the average age difference between couples in uk is 3years\n",
    "# for newly weds to infer the age for Christopher Johnson since he is married\n",
    "\n",
    "# Hugh Richards, i will also infer his age from his people in same house hold with him and his occupation since he is a university student\n",
    "# Since he is a university student and single i used the mode age of all university student to fill his age value  \"Relatiosnship to Head of the House\" will be used to fill "
   ]
  },
  {
   "cell_type": "code",
   "execution_count": 22,
   "id": "97758551",
   "metadata": {},
   "outputs": [
    {
     "data": {
      "text/html": [
       "<div>\n",
       "<style scoped>\n",
       "    .dataframe tbody tr th:only-of-type {\n",
       "        vertical-align: middle;\n",
       "    }\n",
       "\n",
       "    .dataframe tbody tr th {\n",
       "        vertical-align: top;\n",
       "    }\n",
       "\n",
       "    .dataframe thead th {\n",
       "        text-align: right;\n",
       "    }\n",
       "</style>\n",
       "<table border=\"1\" class=\"dataframe\">\n",
       "  <thead>\n",
       "    <tr style=\"text-align: right;\">\n",
       "      <th></th>\n",
       "      <th>House Number</th>\n",
       "      <th>Street</th>\n",
       "      <th>First Name</th>\n",
       "      <th>Surname</th>\n",
       "      <th>Age</th>\n",
       "      <th>Relationship to Head of House</th>\n",
       "      <th>Marital Status</th>\n",
       "      <th>Gender</th>\n",
       "      <th>Occupation</th>\n",
       "      <th>Infirmity</th>\n",
       "      <th>Religion</th>\n",
       "    </tr>\n",
       "  </thead>\n",
       "  <tbody>\n",
       "    <tr>\n",
       "      <th>2205</th>\n",
       "      <td>17</td>\n",
       "      <td>Andrews Mill</td>\n",
       "      <td>Sophie</td>\n",
       "      <td>Johnson</td>\n",
       "      <td>32</td>\n",
       "      <td>Head</td>\n",
       "      <td>Married</td>\n",
       "      <td>Female</td>\n",
       "      <td>Accounting technician</td>\n",
       "      <td>None</td>\n",
       "      <td>None</td>\n",
       "    </tr>\n",
       "    <tr>\n",
       "      <th>2206</th>\n",
       "      <td>17</td>\n",
       "      <td>Andrews Mill</td>\n",
       "      <td>Christopher</td>\n",
       "      <td>Johnson</td>\n",
       "      <td>NaN</td>\n",
       "      <td>Husband</td>\n",
       "      <td>Married</td>\n",
       "      <td>Male</td>\n",
       "      <td>Wellsite geologist</td>\n",
       "      <td>None</td>\n",
       "      <td>None</td>\n",
       "    </tr>\n",
       "    <tr>\n",
       "      <th>2207</th>\n",
       "      <td>17</td>\n",
       "      <td>Andrews Mill</td>\n",
       "      <td>Ronald</td>\n",
       "      <td>Johnson</td>\n",
       "      <td>3</td>\n",
       "      <td>Son</td>\n",
       "      <td>NaN</td>\n",
       "      <td>Male</td>\n",
       "      <td>Child</td>\n",
       "      <td>None</td>\n",
       "      <td>NaN</td>\n",
       "    </tr>\n",
       "  </tbody>\n",
       "</table>\n",
       "</div>"
      ],
      "text/plain": [
       "      House Number        Street   First Name  Surname  Age  \\\n",
       "2205            17  Andrews Mill       Sophie  Johnson   32   \n",
       "2206            17  Andrews Mill  Christopher  Johnson  NaN   \n",
       "2207            17  Andrews Mill       Ronald  Johnson    3   \n",
       "\n",
       "     Relationship to Head of House Marital Status  Gender  \\\n",
       "2205                          Head        Married  Female   \n",
       "2206                       Husband        Married    Male   \n",
       "2207                           Son            NaN    Male   \n",
       "\n",
       "                 Occupation Infirmity Religion  \n",
       "2205  Accounting technician      None     None  \n",
       "2206     Wellsite geologist      None     None  \n",
       "2207                  Child      None      NaN  "
      ]
     },
     "execution_count": 22,
     "metadata": {},
     "output_type": "execute_result"
    }
   ],
   "source": [
    "# For Christopher Johnson, checking the those living in the same household\n",
    "census_data.loc[(census_data[\"House Number\"] == 17) & (census_data[\"Street\"]== \"Andrews Mill\")]"
   ]
  },
  {
   "cell_type": "code",
   "execution_count": 23,
   "id": "f7364a36",
   "metadata": {},
   "outputs": [],
   "source": [
    "# From the office of national Statistic the average average age difference between couples in the uk is between 1-3 England and Wales.\n",
    "# Taking this into consideration, i assumed that his age will be on the upper side since he is a male and filled his age with 35\n",
    "# the website with the above statistics is given in the refernce section of the university \n",
    "# Replacing the Age NAN Value with not with 48( Mode of Husbands Age) where \"Relationship to Head of House\" == Husband\n",
    "census_data.loc[(census_data[\"Age\"].isna()) & (census_data[\"Relationship to Head of House\"] == \"Husband\"), \"Age\"]= 32"
   ]
  },
  {
   "cell_type": "code",
   "execution_count": 24,
   "id": "dc2e0acc",
   "metadata": {},
   "outputs": [
    {
     "data": {
      "text/html": [
       "<div>\n",
       "<style scoped>\n",
       "    .dataframe tbody tr th:only-of-type {\n",
       "        vertical-align: middle;\n",
       "    }\n",
       "\n",
       "    .dataframe tbody tr th {\n",
       "        vertical-align: top;\n",
       "    }\n",
       "\n",
       "    .dataframe thead th {\n",
       "        text-align: right;\n",
       "    }\n",
       "</style>\n",
       "<table border=\"1\" class=\"dataframe\">\n",
       "  <thead>\n",
       "    <tr style=\"text-align: right;\">\n",
       "      <th></th>\n",
       "      <th>House Number</th>\n",
       "      <th>Street</th>\n",
       "      <th>First Name</th>\n",
       "      <th>Surname</th>\n",
       "      <th>Age</th>\n",
       "      <th>Relationship to Head of House</th>\n",
       "      <th>Marital Status</th>\n",
       "      <th>Gender</th>\n",
       "      <th>Occupation</th>\n",
       "      <th>Infirmity</th>\n",
       "      <th>Religion</th>\n",
       "    </tr>\n",
       "  </thead>\n",
       "  <tbody>\n",
       "    <tr>\n",
       "      <th>4315</th>\n",
       "      <td>47</td>\n",
       "      <td>Smith Plains</td>\n",
       "      <td>Ellie</td>\n",
       "      <td>Richards</td>\n",
       "      <td>52</td>\n",
       "      <td>Head</td>\n",
       "      <td>Married</td>\n",
       "      <td>Female</td>\n",
       "      <td>Financial adviser</td>\n",
       "      <td>None</td>\n",
       "      <td>Christian</td>\n",
       "    </tr>\n",
       "    <tr>\n",
       "      <th>4316</th>\n",
       "      <td>47</td>\n",
       "      <td>Smith Plains</td>\n",
       "      <td>Guy</td>\n",
       "      <td>Richards</td>\n",
       "      <td>48</td>\n",
       "      <td>Husband</td>\n",
       "      <td>Married</td>\n",
       "      <td>Male</td>\n",
       "      <td>Insurance claims handler</td>\n",
       "      <td>None</td>\n",
       "      <td>None</td>\n",
       "    </tr>\n",
       "    <tr>\n",
       "      <th>4317</th>\n",
       "      <td>47</td>\n",
       "      <td>Smith Plains</td>\n",
       "      <td>Hugh</td>\n",
       "      <td>Richards</td>\n",
       "      <td>NaN</td>\n",
       "      <td>Son</td>\n",
       "      <td>Single</td>\n",
       "      <td>Male</td>\n",
       "      <td>University Student</td>\n",
       "      <td>None</td>\n",
       "      <td>Christian</td>\n",
       "    </tr>\n",
       "  </tbody>\n",
       "</table>\n",
       "</div>"
      ],
      "text/plain": [
       "      House Number        Street First Name   Surname  Age  \\\n",
       "4315            47  Smith Plains      Ellie  Richards   52   \n",
       "4316            47  Smith Plains        Guy  Richards   48   \n",
       "4317            47  Smith Plains       Hugh  Richards  NaN   \n",
       "\n",
       "     Relationship to Head of House Marital Status  Gender  \\\n",
       "4315                          Head        Married  Female   \n",
       "4316                       Husband        Married    Male   \n",
       "4317                           Son         Single    Male   \n",
       "\n",
       "                    Occupation Infirmity   Religion  \n",
       "4315         Financial adviser      None  Christian  \n",
       "4316  Insurance claims handler      None       None  \n",
       "4317        University Student      None  Christian  "
      ]
     },
     "execution_count": 24,
     "metadata": {},
     "output_type": "execute_result"
    }
   ],
   "source": [
    "census_data.loc[(census_data[\"House Number\"] == 47) & (census_data[\"Street\"]== \"Smith Plains\")]"
   ]
  },
  {
   "cell_type": "code",
   "execution_count": 25,
   "id": "1fce5d68",
   "metadata": {},
   "outputs": [
    {
     "name": "stdout",
     "output_type": "stream",
     "text": [
      "0    19\n",
      "Name: Age, dtype: object\n"
     ]
    }
   ],
   "source": [
    "# For Hugh Rechards, since is is the son in his house hold and is single, i used the mode of his occupation which is student to fill his age\n",
    "# Locking down the values for those whose \"Occupation\" == University Student \n",
    "university_students_age= census_data.loc[ census_data[\"Occupation\"] == \"University Student\"]\n",
    "\n",
    "# Finding the Mode of Husbands Age\n",
    "print(university_students_age.Age.mode())\n"
   ]
  },
  {
   "cell_type": "code",
   "execution_count": 26,
   "id": "9620cbf9",
   "metadata": {},
   "outputs": [],
   "source": [
    "# Replacing hugh Rechard Age NAN Value with  with 19( Mode of university Students Age) under the ocupation column \n",
    "census_data.loc[(census_data[\"Age\"].isna()) & (census_data[\"Occupation\"] == \"University Student\"), \"Age\"]= 19"
   ]
  },
  {
   "cell_type": "code",
   "execution_count": 27,
   "id": "6f610c47",
   "metadata": {},
   "outputs": [
    {
     "data": {
      "text/html": [
       "<div>\n",
       "<style scoped>\n",
       "    .dataframe tbody tr th:only-of-type {\n",
       "        vertical-align: middle;\n",
       "    }\n",
       "\n",
       "    .dataframe tbody tr th {\n",
       "        vertical-align: top;\n",
       "    }\n",
       "\n",
       "    .dataframe thead th {\n",
       "        text-align: right;\n",
       "    }\n",
       "</style>\n",
       "<table border=\"1\" class=\"dataframe\">\n",
       "  <thead>\n",
       "    <tr style=\"text-align: right;\">\n",
       "      <th></th>\n",
       "      <th>House Number</th>\n",
       "      <th>Street</th>\n",
       "      <th>First Name</th>\n",
       "      <th>Surname</th>\n",
       "      <th>Age</th>\n",
       "      <th>Relationship to Head of House</th>\n",
       "      <th>Marital Status</th>\n",
       "      <th>Gender</th>\n",
       "      <th>Occupation</th>\n",
       "      <th>Infirmity</th>\n",
       "      <th>Religion</th>\n",
       "    </tr>\n",
       "  </thead>\n",
       "  <tbody>\n",
       "    <tr>\n",
       "      <th>2206</th>\n",
       "      <td>17</td>\n",
       "      <td>Andrews Mill</td>\n",
       "      <td>Christopher</td>\n",
       "      <td>Johnson</td>\n",
       "      <td>32</td>\n",
       "      <td>Husband</td>\n",
       "      <td>Married</td>\n",
       "      <td>Male</td>\n",
       "      <td>Wellsite geologist</td>\n",
       "      <td>None</td>\n",
       "      <td>None</td>\n",
       "    </tr>\n",
       "    <tr>\n",
       "      <th>4317</th>\n",
       "      <td>47</td>\n",
       "      <td>Smith Plains</td>\n",
       "      <td>Hugh</td>\n",
       "      <td>Richards</td>\n",
       "      <td>19</td>\n",
       "      <td>Son</td>\n",
       "      <td>Single</td>\n",
       "      <td>Male</td>\n",
       "      <td>University Student</td>\n",
       "      <td>None</td>\n",
       "      <td>Christian</td>\n",
       "    </tr>\n",
       "  </tbody>\n",
       "</table>\n",
       "</div>"
      ],
      "text/plain": [
       "      House Number        Street   First Name   Surname Age  \\\n",
       "2206            17  Andrews Mill  Christopher   Johnson  32   \n",
       "4317            47  Smith Plains         Hugh  Richards  19   \n",
       "\n",
       "     Relationship to Head of House Marital Status Gender          Occupation  \\\n",
       "2206                       Husband        Married   Male  Wellsite geologist   \n",
       "4317                           Son         Single   Male  University Student   \n",
       "\n",
       "     Infirmity   Religion  \n",
       "2206      None       None  \n",
       "4317      None  Christian  "
      ]
     },
     "execution_count": 27,
     "metadata": {},
     "output_type": "execute_result"
    }
   ],
   "source": [
    "# Confriming that both age values for NAN were correctly inputed\n",
    "census_data.loc[[2206, 4317]]"
   ]
  },
  {
   "cell_type": "code",
   "execution_count": 28,
   "id": "5a03f264",
   "metadata": {},
   "outputs": [],
   "source": [
    "# The values in the age column are all strings\n",
    "\n",
    "# casting the age column to float\n",
    "census_data.Age = census_data.Age.astype(float)\n",
    "\n",
    "# casting the age column to int\n",
    "census_data.Age = census_data.Age.astype(int)"
   ]
  },
  {
   "cell_type": "markdown",
   "id": "f3aa7ba2",
   "metadata": {},
   "source": [
    "### For the Marital Status Column NAN Values"
   ]
  },
  {
   "cell_type": "code",
   "execution_count": 30,
   "id": "bed49cb1",
   "metadata": {},
   "outputs": [],
   "source": [
    "# In dealing with the marital Status, the following consideration are assumed\n",
    "# For those whose age are below 20 and show occupation are is Student or child\n",
    "# The legal age for marraige is 18 years and \n",
    "# Most of those who are student or child are single"
   ]
  },
  {
   "cell_type": "code",
   "execution_count": 31,
   "id": "abff96fd",
   "metadata": {},
   "outputs": [
    {
     "data": {
      "text/plain": [
       "array(['Single', 'Married', 'Divorced', nan, 'Widowed'], dtype=object)"
      ]
     },
     "execution_count": 31,
     "metadata": {},
     "output_type": "execute_result"
    }
   ],
   "source": [
    "# Checking the unique values in \"Marrital Status\" column\n",
    "census_data[\"Marital Status\"].unique()"
   ]
  },
  {
   "cell_type": "code",
   "execution_count": 32,
   "id": "3cd7f8bf",
   "metadata": {},
   "outputs": [
    {
     "data": {
      "text/plain": [
       "0"
      ]
     },
     "execution_count": 32,
     "metadata": {},
     "output_type": "execute_result"
    }
   ],
   "source": [
    "# Cheking for those who are less than 18 years and divorced\n",
    "census_data.loc[(census_data.Age < 18) & (census_data[\"Marital Status\"] == \"Divorced\")].count()[0]"
   ]
  },
  {
   "cell_type": "markdown",
   "id": "2c2a67f4",
   "metadata": {},
   "source": [
    "#### For the above two codes, it reasonable to believe that anyone one is  <= 18 and not married ought to be single"
   ]
  },
  {
   "cell_type": "code",
   "execution_count": 33,
   "id": "f591f4e2",
   "metadata": {},
   "outputs": [
    {
     "data": {
      "text/plain": [
       "2056"
      ]
     },
     "execution_count": 33,
     "metadata": {},
     "output_type": "execute_result"
    }
   ],
   "source": [
    "# Resolving the Marital Status column based on the assumptions above\n",
    "\n",
    "\n",
    "# Checking for thos who are less than 18 and Marital status is Nan\n",
    "census_data.loc[(census_data[\"Marital Status\"].isna()) & (census_data.Age < 18)].count()[0]"
   ]
  },
  {
   "cell_type": "code",
   "execution_count": 34,
   "id": "7b16f3a3",
   "metadata": {},
   "outputs": [],
   "source": [
    "# Replacing the Nan values with single\n",
    "census_data.loc[(census_data[\"Marital Status\"].isna()) & (census_data.Age < 18), \"Marital Status\" ] = \"Not Applicable\""
   ]
  },
  {
   "cell_type": "code",
   "execution_count": null,
   "id": "6d546553",
   "metadata": {},
   "outputs": [],
   "source": []
  },
  {
   "cell_type": "code",
   "execution_count": 35,
   "id": "099316f5",
   "metadata": {},
   "outputs": [
    {
     "data": {
      "text/html": [
       "<div>\n",
       "<style scoped>\n",
       "    .dataframe tbody tr th:only-of-type {\n",
       "        vertical-align: middle;\n",
       "    }\n",
       "\n",
       "    .dataframe tbody tr th {\n",
       "        vertical-align: top;\n",
       "    }\n",
       "\n",
       "    .dataframe thead th {\n",
       "        text-align: right;\n",
       "    }\n",
       "</style>\n",
       "<table border=\"1\" class=\"dataframe\">\n",
       "  <thead>\n",
       "    <tr style=\"text-align: right;\">\n",
       "      <th></th>\n",
       "      <th>House Number</th>\n",
       "      <th>Street</th>\n",
       "      <th>First Name</th>\n",
       "      <th>Surname</th>\n",
       "      <th>Age</th>\n",
       "      <th>Relationship to Head of House</th>\n",
       "      <th>Marital Status</th>\n",
       "      <th>Gender</th>\n",
       "      <th>Occupation</th>\n",
       "      <th>Infirmity</th>\n",
       "      <th>Religion</th>\n",
       "    </tr>\n",
       "  </thead>\n",
       "  <tbody>\n",
       "    <tr>\n",
       "      <th>4328</th>\n",
       "      <td>53</td>\n",
       "      <td>Smith Plains</td>\n",
       "      <td>Lynn</td>\n",
       "      <td>Hilton</td>\n",
       "      <td>52</td>\n",
       "      <td>Head</td>\n",
       "      <td>NaN</td>\n",
       "      <td>Female</td>\n",
       "      <td>Hospital doctor</td>\n",
       "      <td>None</td>\n",
       "      <td>Christian</td>\n",
       "    </tr>\n",
       "    <tr>\n",
       "      <th>7103</th>\n",
       "      <td>24</td>\n",
       "      <td>Ellis Mountain</td>\n",
       "      <td>Susan</td>\n",
       "      <td>Taylor</td>\n",
       "      <td>19</td>\n",
       "      <td>None</td>\n",
       "      <td>NaN</td>\n",
       "      <td>Female</td>\n",
       "      <td>University Student</td>\n",
       "      <td>None</td>\n",
       "      <td>Christian</td>\n",
       "    </tr>\n",
       "    <tr>\n",
       "      <th>7460</th>\n",
       "      <td>30</td>\n",
       "      <td>Freeman Trail</td>\n",
       "      <td>Adrian</td>\n",
       "      <td>King</td>\n",
       "      <td>20</td>\n",
       "      <td>None</td>\n",
       "      <td>NaN</td>\n",
       "      <td>Male</td>\n",
       "      <td>University Student</td>\n",
       "      <td>None</td>\n",
       "      <td>Christian</td>\n",
       "    </tr>\n",
       "  </tbody>\n",
       "</table>\n",
       "</div>"
      ],
      "text/plain": [
       "      House Number          Street First Name Surname  Age  \\\n",
       "4328            53    Smith Plains       Lynn  Hilton   52   \n",
       "7103            24  Ellis Mountain      Susan  Taylor   19   \n",
       "7460            30   Freeman Trail     Adrian    King   20   \n",
       "\n",
       "     Relationship to Head of House Marital Status  Gender          Occupation  \\\n",
       "4328                          Head            NaN  Female     Hospital doctor   \n",
       "7103                          None            NaN  Female  University Student   \n",
       "7460                          None            NaN    Male  University Student   \n",
       "\n",
       "     Infirmity   Religion  \n",
       "4328      None  Christian  \n",
       "7103      None  Christian  \n",
       "7460      None  Christian  "
      ]
     },
     "execution_count": 35,
     "metadata": {},
     "output_type": "execute_result"
    }
   ],
   "source": [
    "# Checking to see if there are any more remaing NAN values in Marital Status Column\n",
    "census_data.loc[census_data[\"Marital Status\"].isna()]"
   ]
  },
  {
   "cell_type": "code",
   "execution_count": 36,
   "id": "f45be89a",
   "metadata": {},
   "outputs": [],
   "source": [
    "# Only 3 NAN values remains after \n",
    "# Seeing that two of this entried are 20 years and below, it can be reasonable assumed that they also are single\n",
    "# We can also put their marital status as single\n",
    "\n",
    "census_data.loc[(census_data[\"Marital Status\"].isna()) & (census_data.Age <= 20), \"Marital Status\" ] = \"Single\""
   ]
  },
  {
   "cell_type": "code",
   "execution_count": 37,
   "id": "9256497b",
   "metadata": {},
   "outputs": [
    {
     "data": {
      "text/html": [
       "<div>\n",
       "<style scoped>\n",
       "    .dataframe tbody tr th:only-of-type {\n",
       "        vertical-align: middle;\n",
       "    }\n",
       "\n",
       "    .dataframe tbody tr th {\n",
       "        vertical-align: top;\n",
       "    }\n",
       "\n",
       "    .dataframe thead th {\n",
       "        text-align: right;\n",
       "    }\n",
       "</style>\n",
       "<table border=\"1\" class=\"dataframe\">\n",
       "  <thead>\n",
       "    <tr style=\"text-align: right;\">\n",
       "      <th></th>\n",
       "      <th>House Number</th>\n",
       "      <th>Street</th>\n",
       "      <th>First Name</th>\n",
       "      <th>Surname</th>\n",
       "      <th>Age</th>\n",
       "      <th>Relationship to Head of House</th>\n",
       "      <th>Marital Status</th>\n",
       "      <th>Gender</th>\n",
       "      <th>Occupation</th>\n",
       "      <th>Infirmity</th>\n",
       "      <th>Religion</th>\n",
       "    </tr>\n",
       "  </thead>\n",
       "  <tbody>\n",
       "    <tr>\n",
       "      <th>4328</th>\n",
       "      <td>53</td>\n",
       "      <td>Smith Plains</td>\n",
       "      <td>Lynn</td>\n",
       "      <td>Hilton</td>\n",
       "      <td>52</td>\n",
       "      <td>Head</td>\n",
       "      <td>NaN</td>\n",
       "      <td>Female</td>\n",
       "      <td>Hospital doctor</td>\n",
       "      <td>None</td>\n",
       "      <td>Christian</td>\n",
       "    </tr>\n",
       "    <tr>\n",
       "      <th>4329</th>\n",
       "      <td>53</td>\n",
       "      <td>Smith Plains</td>\n",
       "      <td>Adrian</td>\n",
       "      <td>Hilton</td>\n",
       "      <td>53</td>\n",
       "      <td>Husband</td>\n",
       "      <td>Married</td>\n",
       "      <td>Male</td>\n",
       "      <td>Accountant, chartered management</td>\n",
       "      <td>None</td>\n",
       "      <td>None</td>\n",
       "    </tr>\n",
       "    <tr>\n",
       "      <th>4330</th>\n",
       "      <td>53</td>\n",
       "      <td>Smith Plains</td>\n",
       "      <td>Laura</td>\n",
       "      <td>Hilton</td>\n",
       "      <td>27</td>\n",
       "      <td>Daughter</td>\n",
       "      <td>Single</td>\n",
       "      <td>Female</td>\n",
       "      <td>Facilities manager</td>\n",
       "      <td>None</td>\n",
       "      <td>Christian</td>\n",
       "    </tr>\n",
       "    <tr>\n",
       "      <th>4331</th>\n",
       "      <td>53</td>\n",
       "      <td>Smith Plains</td>\n",
       "      <td>Richard</td>\n",
       "      <td>Hilton</td>\n",
       "      <td>27</td>\n",
       "      <td>Son</td>\n",
       "      <td>Single</td>\n",
       "      <td>Male</td>\n",
       "      <td>Barrister's clerk</td>\n",
       "      <td>None</td>\n",
       "      <td>Christian</td>\n",
       "    </tr>\n",
       "    <tr>\n",
       "      <th>4332</th>\n",
       "      <td>53</td>\n",
       "      <td>Smith Plains</td>\n",
       "      <td>Jean</td>\n",
       "      <td>Hilton</td>\n",
       "      <td>16</td>\n",
       "      <td>Daughter</td>\n",
       "      <td>Not Applicable</td>\n",
       "      <td>Female</td>\n",
       "      <td>Student</td>\n",
       "      <td>None</td>\n",
       "      <td>NaN</td>\n",
       "    </tr>\n",
       "  </tbody>\n",
       "</table>\n",
       "</div>"
      ],
      "text/plain": [
       "      House Number        Street First Name Surname  Age  \\\n",
       "4328            53  Smith Plains       Lynn  Hilton   52   \n",
       "4329            53  Smith Plains     Adrian  Hilton   53   \n",
       "4330            53  Smith Plains      Laura  Hilton   27   \n",
       "4331            53  Smith Plains    Richard  Hilton   27   \n",
       "4332            53  Smith Plains       Jean  Hilton   16   \n",
       "\n",
       "     Relationship to Head of House  Marital Status  Gender  \\\n",
       "4328                          Head             NaN  Female   \n",
       "4329                       Husband         Married    Male   \n",
       "4330                      Daughter          Single  Female   \n",
       "4331                           Son          Single    Male   \n",
       "4332                      Daughter  Not Applicable  Female   \n",
       "\n",
       "                            Occupation Infirmity   Religion  \n",
       "4328                   Hospital doctor      None  Christian  \n",
       "4329  Accountant, chartered management      None       None  \n",
       "4330                Facilities manager      None  Christian  \n",
       "4331                 Barrister's clerk      None  Christian  \n",
       "4332                           Student      None        NaN  "
      ]
     },
     "execution_count": 37,
     "metadata": {},
     "output_type": "execute_result"
    }
   ],
   "source": [
    "# For the row where Marital status == NAN and age = 52, using the \"House Number\" == 53 and \"Street\" == Smith Plains\n",
    "census_data.loc[(census_data[\"House Number\"]== 53) & (census_data.Street == \"Smith Plains\") ]"
   ]
  },
  {
   "cell_type": "code",
   "execution_count": 38,
   "id": "3b8d8afe",
   "metadata": {},
   "outputs": [
    {
     "data": {
      "text/plain": [
       "0"
      ]
     },
     "execution_count": 38,
     "metadata": {},
     "output_type": "execute_result"
    }
   ],
   "source": [
    "# From the above  codes, it reasonable to assume that she is married to Adrian Hilton and thus can be beleived to be married\n",
    "\n",
    "# Filling the value\n",
    "census_data.loc[(census_data[\"Marital Status\"].isna()) & (census_data.Age == 52), \"Marital Status\" ] = \"Married\"\n",
    "\n",
    "\n",
    "# Confirming that there is no more missing values in Marital Status column\n",
    "census_data[\"Marital Status\"].isna().sum()"
   ]
  },
  {
   "cell_type": "markdown",
   "id": "f82b01cb",
   "metadata": {},
   "source": [
    "### For the Infirmity Column"
   ]
  },
  {
   "cell_type": "code",
   "execution_count": 39,
   "id": "12ba922c",
   "metadata": {},
   "outputs": [
    {
     "data": {
      "text/plain": [
       "array(['None', 'Physical Disability', 'Mental Disability',\n",
       "       'Unknown Infection', nan, 'Disabled', 'Blind', 'Deaf'],\n",
       "      dtype=object)"
      ]
     },
     "execution_count": 39,
     "metadata": {},
     "output_type": "execute_result"
    }
   ],
   "source": [
    "\n",
    "\n",
    "# In Dealing with the Infirmity Column, I assumed that anyone who did not fill this column or left it empty might not know the kind of\n",
    "# disability or infection they have and since there are only 8 missing values, i joined them eith \"Unknown Infection\" Categories\"\n",
    "\n",
    "\n",
    "# Checking the unique values Infirmity column\n",
    "census_data[\"Infirmity\"].unique()"
   ]
  },
  {
   "cell_type": "code",
   "execution_count": 40,
   "id": "da3a02cc",
   "metadata": {},
   "outputs": [
    {
     "data": {
      "text/plain": [
       "0"
      ]
     },
     "execution_count": 40,
     "metadata": {},
     "output_type": "execute_result"
    }
   ],
   "source": [
    "# Repalcing the NAN values with unknown\n",
    "#replace the missing values in infirmity to unknow infection since their values is vary small(8)\n",
    "census_data.loc[(census_data[\"Infirmity\"].isna()), \"Infirmity\" ] = \"Unknown Infection\"\n",
    "\n",
    "# Confirming that all the NAN values in Infirmity column has been resolved\n",
    "census_data[\"Infirmity\"].isna().sum()"
   ]
  },
  {
   "cell_type": "code",
   "execution_count": 41,
   "id": "1ecd56f7",
   "metadata": {},
   "outputs": [
    {
     "data": {
      "text/plain": [
       "array(['None', 'Physical Disability', 'Mental Disability',\n",
       "       'Unknown Infection', 'Disabled', 'Blind', 'Deaf'], dtype=object)"
      ]
     },
     "execution_count": 41,
     "metadata": {},
     "output_type": "execute_result"
    }
   ],
   "source": [
    "\n",
    "# Checking the unique values Infirmity column\n",
    "census_data[\"Infirmity\"].unique()"
   ]
  },
  {
   "cell_type": "markdown",
   "id": "be8f2c68",
   "metadata": {},
   "source": [
    "### For the Religions Column"
   ]
  },
  {
   "cell_type": "code",
   "execution_count": 42,
   "id": "8da08bdb",
   "metadata": {},
   "outputs": [],
   "source": [
    "# For the Religiion column. All the nan Values i canverted to unknow while leaving the NoNe values as same \n",
    "# since we cannot logically determine from other columns what the religion of a particular students will be \n",
    "# using boxplot and bar chat to examine the column further"
   ]
  },
  {
   "cell_type": "code",
   "execution_count": 43,
   "id": "7cadd128",
   "metadata": {},
   "outputs": [
    {
     "data": {
      "text/plain": [
       "array(['Catholic', 'Methodist', 'None', nan, 'Christian', 'Sikh',\n",
       "       'Muslim', 'Jewish', 'Buddist', 'Quaker'], dtype=object)"
      ]
     },
     "execution_count": 43,
     "metadata": {},
     "output_type": "execute_result"
    }
   ],
   "source": [
    "# Checking the unique variables in Religion\n",
    "census_data[\"Religion\"].unique()"
   ]
  },
  {
   "cell_type": "code",
   "execution_count": 44,
   "id": "b2d2f6f8",
   "metadata": {},
   "outputs": [
    {
     "data": {
      "text/plain": [
       "2109"
      ]
     },
     "execution_count": 44,
     "metadata": {},
     "output_type": "execute_result"
    }
   ],
   "source": [
    "census_data[\"Religion\"].isna().sum()"
   ]
  },
  {
   "cell_type": "markdown",
   "id": "be82940a",
   "metadata": {},
   "source": [
    "#### Using fillforward to fill the Missing values for Religion"
   ]
  },
  {
   "cell_type": "code",
   "execution_count": 45,
   "id": "54942031",
   "metadata": {},
   "outputs": [],
   "source": [
    "# Here we assume that a child will take the value of the parents religion if they since the parents name comes before the child in the data\n",
    "# Also where there are more than one child in the family, the the first child will take the parent religion \n",
    "# while the second child will automatically assume the siblings religion"
   ]
  },
  {
   "cell_type": "code",
   "execution_count": 46,
   "id": "1f208dbc",
   "metadata": {},
   "outputs": [],
   "source": [
    "# Using the forward fill metthod\n",
    "census_data[\"Religion\"] = census_data.groupby([\"Surname\", \"Street\", \"House Number\"])[\"Religion\"].ffill()"
   ]
  },
  {
   "cell_type": "code",
   "execution_count": 47,
   "id": "fd04463b",
   "metadata": {},
   "outputs": [
    {
     "data": {
      "text/plain": [
       "314"
      ]
     },
     "execution_count": 47,
     "metadata": {},
     "output_type": "execute_result"
    }
   ],
   "source": [
    "# Checking for remaining nan values\n",
    "census_data[\"Religion\"].isna().sum()"
   ]
  },
  {
   "cell_type": "code",
   "execution_count": 48,
   "id": "7afa46bd",
   "metadata": {},
   "outputs": [],
   "source": [
    "# Filling the misiing value of Adults(18 and above) with \"Undeclared\"\n",
    "census_data.loc[(census_data.Religion.isna()) & (census_data.Age >=18), :] = census_data.loc[(census_data.Religion.isna()) & (census_data.Age >=18), :].fillna(value={\"Religion\":\"Undeclared\"})"
   ]
  },
  {
   "cell_type": "code",
   "execution_count": 49,
   "id": "180985a9",
   "metadata": {},
   "outputs": [],
   "source": [
    "#Filling the remaining missing values in religion with \"Unknown\"\n",
    "census_data.loc[census_data.Religion.isna(), \"Religion\"] = \"Unknown\""
   ]
  },
  {
   "cell_type": "code",
   "execution_count": 50,
   "id": "e65bb7e3",
   "metadata": {},
   "outputs": [
    {
     "data": {
      "text/plain": [
       "0"
      ]
     },
     "execution_count": 50,
     "metadata": {},
     "output_type": "execute_result"
    }
   ],
   "source": [
    "#Confirming that there no more missing values in Religion column\n",
    "census_data[\"Religion\"].isna().sum()"
   ]
  },
  {
   "cell_type": "markdown",
   "id": "ae831676",
   "metadata": {},
   "source": [
    "### Checking the summary of the dataset to confirm that all missing values have all been resolved"
   ]
  },
  {
   "cell_type": "code",
   "execution_count": 51,
   "id": "322df807",
   "metadata": {},
   "outputs": [
    {
     "name": "stdout",
     "output_type": "stream",
     "text": [
      "<class 'pandas.core.frame.DataFrame'>\n",
      "RangeIndex: 8329 entries, 0 to 8328\n",
      "Data columns (total 11 columns):\n",
      " #   Column                         Non-Null Count  Dtype \n",
      "---  ------                         --------------  ----- \n",
      " 0   House Number                   8329 non-null   int64 \n",
      " 1   Street                         8329 non-null   object\n",
      " 2   First Name                     8329 non-null   object\n",
      " 3   Surname                        8329 non-null   object\n",
      " 4   Age                            8329 non-null   int32 \n",
      " 5   Relationship to Head of House  8329 non-null   object\n",
      " 6   Marital Status                 8329 non-null   object\n",
      " 7   Gender                         8329 non-null   object\n",
      " 8   Occupation                     8329 non-null   object\n",
      " 9   Infirmity                      8329 non-null   object\n",
      " 10  Religion                       8329 non-null   object\n",
      "dtypes: int32(1), int64(1), object(9)\n",
      "memory usage: 683.4+ KB\n"
     ]
    }
   ],
   "source": [
    "\n",
    "census_data.info()"
   ]
  },
  {
   "cell_type": "markdown",
   "id": "fbb6fc74",
   "metadata": {},
   "source": [
    "## Further Cleaning and prelimiranry Insight"
   ]
  },
  {
   "cell_type": "markdown",
   "id": "ee726605",
   "metadata": {},
   "source": [
    "# Detailed Analysis of the dataset"
   ]
  },
  {
   "cell_type": "markdown",
   "id": "52d9f4cd",
   "metadata": {},
   "source": [
    "## For The Age Column"
   ]
  },
  {
   "cell_type": "code",
   "execution_count": 52,
   "id": "d68ff70c",
   "metadata": {},
   "outputs": [],
   "source": [
    "# Creating a Population Pyramid Plot Using the Age on Male and Female to examine the distribution of the city population\n",
    "# I will also examine the birthrate, the death rate of the town to determine if the population of town is increasing or decreasing"
   ]
  },
  {
   "cell_type": "code",
   "execution_count": 53,
   "id": "d729bea0",
   "metadata": {},
   "outputs": [
    {
     "data": {
      "image/png": "[encoded data removed]",
      "text/plain": [
       "<Figure size 638x500 with 1 Axes>"
      ]
     },
     "metadata": {},
     "output_type": "display_data"
    }
   ],
   "source": [
    "# Age Count based on the Male and Female Population\n",
    "sns.set(font_scale=1.3)\n",
    "sns.set_style(\"white\")\n",
    "Age_demographic_plot = sns.displot(x=census_data.Age, hue=census_data[\"Gender\"], bins= 15, palette=(\"Set1\")).set(title=\"Age Distribution based on Gender\")\n",
    "plt.savefig(\"Age_demoplot.png\")"
   ]
  },
  {
   "cell_type": "code",
   "execution_count": 54,
   "id": "897c6822",
   "metadata": {},
   "outputs": [],
   "source": [
    "# To create the Age population pyramid plot to further examing the distribution of the famale and male living in the city\n",
    "\n",
    "# Defining a function that will clasify our Age values into an different age bracket\n",
    "def agerange(y):\n",
    "    if y <= 4:\n",
    "        return \"0-4\"\n",
    "    elif y <= 9:\n",
    "        return \"5-9\"\n",
    "    elif y <= 14:\n",
    "        return \"10-14\"    \n",
    "    elif y <= 19:\n",
    "        return \"15-19\"\n",
    "    elif y <= 24:\n",
    "        return \"20-24\"\n",
    "    elif y <= 29:\n",
    "        return \"25-29\"\n",
    "    elif y <= 34:\n",
    "        return \"30-34\"\n",
    "    elif y <= 39:\n",
    "        return \"35-39\"\n",
    "    elif y <= 44:\n",
    "        return \"40-44\"\n",
    "    elif y <= 49:\n",
    "        return \"45-49\"\n",
    "    elif y <= 54:\n",
    "        return \"50-54\"\n",
    "    elif y <= 59:\n",
    "        return \"55-59\"\n",
    "    elif y <= 64:\n",
    "        return \"60-64\"\n",
    "    elif y <= 69:\n",
    "        return \"65-69\"\n",
    "    elif y <= 74:\n",
    "        return \"70-74\"\n",
    "    elif y <= 79:\n",
    "        return \"75-79\"\n",
    "    elif y <= 84:\n",
    "        return \"80-84\"\n",
    "    elif y <= 89:\n",
    "        return \"85-89\"\n",
    "    elif y <= 94:\n",
    "        return \"90-94\"\n",
    "    elif y <= 99:\n",
    "        return \"95-99\"\n",
    "    else:\n",
    "        return \"100+\"\n",
    "    "
   ]
  },
  {
   "cell_type": "code",
   "execution_count": 55,
   "id": "d2172f09",
   "metadata": {},
   "outputs": [
    {
     "data": {
      "text/html": [
       "<div>\n",
       "<style scoped>\n",
       "    .dataframe tbody tr th:only-of-type {\n",
       "        vertical-align: middle;\n",
       "    }\n",
       "\n",
       "    .dataframe tbody tr th {\n",
       "        vertical-align: top;\n",
       "    }\n",
       "\n",
       "    .dataframe thead th {\n",
       "        text-align: right;\n",
       "    }\n",
       "</style>\n",
       "<table border=\"1\" class=\"dataframe\">\n",
       "  <thead>\n",
       "    <tr style=\"text-align: right;\">\n",
       "      <th></th>\n",
       "      <th>House Number</th>\n",
       "      <th>Street</th>\n",
       "      <th>First Name</th>\n",
       "      <th>Surname</th>\n",
       "      <th>Age</th>\n",
       "      <th>Relationship to Head of House</th>\n",
       "      <th>Marital Status</th>\n",
       "      <th>Gender</th>\n",
       "      <th>Occupation</th>\n",
       "      <th>Infirmity</th>\n",
       "      <th>Religion</th>\n",
       "      <th>Agerange</th>\n",
       "    </tr>\n",
       "  </thead>\n",
       "  <tbody>\n",
       "    <tr>\n",
       "      <th>0</th>\n",
       "      <td>1</td>\n",
       "      <td>Scott Dale</td>\n",
       "      <td>Maureen</td>\n",
       "      <td>Cox</td>\n",
       "      <td>50</td>\n",
       "      <td>Head</td>\n",
       "      <td>Single</td>\n",
       "      <td>Female</td>\n",
       "      <td>Engineer, building services</td>\n",
       "      <td>None</td>\n",
       "      <td>Catholic</td>\n",
       "      <td>50-54</td>\n",
       "    </tr>\n",
       "    <tr>\n",
       "      <th>1</th>\n",
       "      <td>1</td>\n",
       "      <td>Scott Dale</td>\n",
       "      <td>Rhys</td>\n",
       "      <td>Brown</td>\n",
       "      <td>52</td>\n",
       "      <td>Partner</td>\n",
       "      <td>Single</td>\n",
       "      <td>Male</td>\n",
       "      <td>Engineer, mining</td>\n",
       "      <td>None</td>\n",
       "      <td>Catholic</td>\n",
       "      <td>50-54</td>\n",
       "    </tr>\n",
       "    <tr>\n",
       "      <th>2</th>\n",
       "      <td>2</td>\n",
       "      <td>Scott Dale</td>\n",
       "      <td>Lorraine</td>\n",
       "      <td>Allen</td>\n",
       "      <td>69</td>\n",
       "      <td>Head</td>\n",
       "      <td>Married</td>\n",
       "      <td>Female</td>\n",
       "      <td>Unemployed</td>\n",
       "      <td>None</td>\n",
       "      <td>Methodist</td>\n",
       "      <td>65-69</td>\n",
       "    </tr>\n",
       "    <tr>\n",
       "      <th>3</th>\n",
       "      <td>2</td>\n",
       "      <td>Scott Dale</td>\n",
       "      <td>Lewis</td>\n",
       "      <td>Allen</td>\n",
       "      <td>72</td>\n",
       "      <td>Husband</td>\n",
       "      <td>Married</td>\n",
       "      <td>Male</td>\n",
       "      <td>Retired Associate Professor</td>\n",
       "      <td>None</td>\n",
       "      <td>Methodist</td>\n",
       "      <td>70-74</td>\n",
       "    </tr>\n",
       "    <tr>\n",
       "      <th>4</th>\n",
       "      <td>3</td>\n",
       "      <td>Scott Dale</td>\n",
       "      <td>Molly</td>\n",
       "      <td>Patel</td>\n",
       "      <td>36</td>\n",
       "      <td>Head</td>\n",
       "      <td>Married</td>\n",
       "      <td>Female</td>\n",
       "      <td>Engineer, land</td>\n",
       "      <td>None</td>\n",
       "      <td>None</td>\n",
       "      <td>35-39</td>\n",
       "    </tr>\n",
       "  </tbody>\n",
       "</table>\n",
       "</div>"
      ],
      "text/plain": [
       "   House Number      Street First Name Surname  Age  \\\n",
       "0             1  Scott Dale    Maureen     Cox   50   \n",
       "1             1  Scott Dale       Rhys   Brown   52   \n",
       "2             2  Scott Dale   Lorraine   Allen   69   \n",
       "3             2  Scott Dale      Lewis   Allen   72   \n",
       "4             3  Scott Dale      Molly   Patel   36   \n",
       "\n",
       "  Relationship to Head of House Marital Status  Gender  \\\n",
       "0                          Head         Single  Female   \n",
       "1                       Partner         Single    Male   \n",
       "2                          Head        Married  Female   \n",
       "3                       Husband        Married    Male   \n",
       "4                          Head        Married  Female   \n",
       "\n",
       "                    Occupation Infirmity   Religion Agerange  \n",
       "0  Engineer, building services      None   Catholic    50-54  \n",
       "1             Engineer, mining      None   Catholic    50-54  \n",
       "2                   Unemployed      None  Methodist    65-69  \n",
       "3  Retired Associate Professor      None  Methodist    70-74  \n",
       "4               Engineer, land      None       None    35-39  "
      ]
     },
     "execution_count": 55,
     "metadata": {},
     "output_type": "execute_result"
    }
   ],
   "source": [
    "# Applying the agerange funtion to our age column and assigning the values to a new column in our dataframe \n",
    "census_data[\"Agerange\"] = census_data[\"Age\"].apply(agerange)\n",
    "\n",
    "# Using head method to examine our new dataset\n",
    "census_data.head()"
   ]
  },
  {
   "cell_type": "code",
   "execution_count": 56,
   "id": "31e818c4",
   "metadata": {
    "scrolled": true
   },
   "outputs": [
    {
     "data": {
      "image/png": "[encoded data removed]",
      "text/plain": [
       "<Figure size 1200x700 with 1 Axes>"
      ]
     },
     "metadata": {},
     "output_type": "display_data"
    }
   ],
   "source": [
    "# here i will extract the Age and gender based on the Age range\n",
    "# Then Creat a new dataframe for the population pyramid plot\n",
    "# The male will be multipled by -1 so that the can appear on the left side\n",
    "\n",
    "# Extracting the sum value of the male and female based on the values of our Agerange\n",
    "male =  census_data[\"Agerange\"][census_data.Gender == \"Male\"].value_counts().sort_index()\n",
    "female =  census_data[\"Agerange\"][census_data.Gender == \"Female\"].value_counts().sort_index()\n",
    "\n",
    "# Using the male and femal calues to creat a new DATAFRAME\n",
    "Age_df = pd.DataFrame({\n",
    "    \"Male\": -1*male,\n",
    "    \"Female\": female\n",
    "})\n",
    "\n",
    "#Adding the defined index to the new column\n",
    "Age_df.index.names =[\"Age Range\"]\n",
    "Age_df.reset_index(inplace=True)\n",
    "age_range_list =  ['100+', '95-99', '90-94', '85-89', '80-84','75-79', '70-74', '65-69', '60-64', '55-59', '50-54', '45-49', '40-44', '35-39', '30-34', '25-29', '20-24', '15-19' ,'10-14' ,'5-9','0-4']\n",
    "\n",
    "\n",
    "# Plloting the Pupolation Pyramid\n",
    "plt.figure(figsize=(12,7))\n",
    "sns.set(font_scale=1.3)\n",
    "sns.set_style(\"white\")\n",
    "age_pyramid = sns.barplot(x='Male', y='Age Range', data=Age_df, order=age_range_list, color = \"darkred\", label='Male')\n",
    "age_pyramid = sns.barplot(x='Female', y='Age Range', data=Age_df, order=age_range_list, color=('#FDA75C'), label='Female')\n",
    "plt.xticks([-400, -300, -200, -100, 0, 100, 200, 300, 400],[400, 300, 200, 100, 0, 100, 200, 300, 400])\n",
    "age_pyramid.legend()\n",
    "plt.title('Age Pyramid')\n",
    "age_pyramid.set(xlabel='Population Count', ylabel='Age Group')\n",
    "\n",
    "#saving the figure\n",
    "plt.savefig(\"age_pyramid\")"
   ]
  },
  {
   "cell_type": "code",
   "execution_count": null,
   "id": "73becd09",
   "metadata": {},
   "outputs": [],
   "source": []
  },
  {
   "cell_type": "code",
   "execution_count": null,
   "id": "0ee0c1ba",
   "metadata": {},
   "outputs": [],
   "source": []
  },
  {
   "cell_type": "code",
   "execution_count": 57,
   "id": "7a5a44bf",
   "metadata": {},
   "outputs": [],
   "source": [
    "## Calculating the birth rate per every 1000 women\n",
    "### Assumtion\n",
    "### 1. The legal Age of getting married is chosen as the minimum age a woman can bear children 18years\n",
    "### 2. Women Biological clock age of 45years as the maximum age a woman can natural get pregnant\n",
    "### 3. Considering the number of  4 years olds and below and taking their average\n"
   ]
  },
  {
   "cell_type": "code",
   "execution_count": 58,
   "id": "3bf47079",
   "metadata": {},
   "outputs": [
    {
     "name": "stdout",
     "output_type": "stream",
     "text": [
      "The percentage male population is 48%\n",
      "The percentage female population is 52%\n"
     ]
    }
   ],
   "source": [
    "# Calculating the percentage of the male and female populations in the city\n",
    "\n",
    "Males = census_data[census_data.Gender == \"Male\"].count()[0]\n",
    "Females = census_data[census_data.Gender == \"Female\"].count()[0]\n",
    "\n",
    "#Percentage population based on gender\n",
    "Percent_Male = (Males/8329)*100\n",
    "Percent_Female = (Females/8329)*100\n",
    "\n",
    "\n",
    "# Printing the results\n",
    "print(f\"The percentage male population is {round(Percent_Male)}%\")\n",
    "print(f\"The percentage female population is {round(Percent_Female)}%\")"
   ]
  },
  {
   "cell_type": "markdown",
   "id": "88981c8b",
   "metadata": {},
   "source": [
    "### Calculatting the brith "
   ]
  },
  {
   "cell_type": "code",
   "execution_count": 59,
   "id": "104c7588",
   "metadata": {},
   "outputs": [],
   "source": [
    "# # Children less than 1 years old\n",
    "# One_Year_Olds = (census_data.Age <= 4).sum()\n",
    "\n",
    "# # Women ithin the Age Bearing Age\n",
    "# women18_45 = census_data[(census_data.Gender == \"Female\") & (census_data.Age.between(18, 45))].count()[0]\n",
    "# print(One_Year_Olds)\n",
    "# print(women18_45)\n",
    "\n",
    "\n",
    "# # Bithrate per 10000 Female within the birthing age bracket\n",
    "\n",
    "# birthrate = round(((One_Year_Olds/women18_45)/5)*1000)\n",
    "# print(f\"The birthrate is: {birthrate} per 1000 Females per annum\")"
   ]
  },
  {
   "cell_type": "code",
   "execution_count": 60,
   "id": "a6c24b6e",
   "metadata": {},
   "outputs": [
    {
     "name": "stdout",
     "output_type": "stream",
     "text": [
      "Number of children less than 1: 88\n",
      "Number of 4 year old children : 100\n",
      "Women withe age of child bearing: 1930\n"
     ]
    }
   ],
   "source": [
    "# Birth rate\n",
    "\n",
    "ChildrenAge_0 = census_data[census_data.Age == 0 ].count()[0]\n",
    "ChildrenAge_4 = census_data[census_data.Age == 4].count()[0]\n",
    "\n",
    "# Female of age bearing range \n",
    "female_18_45 = census_data[(census_data.Gender == \"Female\") & (census_data.Age.between(18, 45))].count()[0]\n",
    "print(f\"Number of children less than 1: {ChildrenAge_0}\")\n",
    "print(f\"Number of 4 year old children : {ChildrenAge_4}\")\n",
    "print(f\"Women withe age of child bearing: {female_18_45}\")"
   ]
  },
  {
   "cell_type": "code",
   "execution_count": 61,
   "id": "3020f4c8",
   "metadata": {},
   "outputs": [
    {
     "name": "stdout",
     "output_type": "stream",
     "text": [
      "Number of children less than 1: 88\n",
      "Number of 4 year old children : 100\n",
      "Women withe age of child bearing: 1930\n"
     ]
    }
   ],
   "source": [
    "# Birth rate\n",
    "\n",
    "ChildrenAge_0 = census_data[census_data.Age == 0 ].count()[0]\n",
    "ChildrenAge_4 = census_data[census_data.Age == 4].count()[0]\n",
    "\n",
    "# Female of age bearing range \n",
    "female_18_45 = census_data[(census_data.Gender == \"Female\") & (census_data.Age.between(18, 45))].count()[0]\n",
    "print(f\"Number of children less than 1: {ChildrenAge_0}\")\n",
    "print(f\"Number of 4 year old children : {ChildrenAge_4}\")\n",
    "print(f\"Women withe age of child bearing: {female_18_45}\")"
   ]
  },
  {
   "cell_type": "code",
   "execution_count": 62,
   "id": "1fe16c2a",
   "metadata": {},
   "outputs": [
    {
     "name": "stdout",
     "output_type": "stream",
     "text": [
      "for children less than 1 Year, crude birth rate is: 11\n",
      "for children born 5 years age, crude birth rate is: 12\n"
     ]
    }
   ],
   "source": [
    "# Calculating Crude Birth Rate\n",
    "# for new borns less than 1 year old\n",
    "birth_rate_0 = round(ChildrenAge_0/len(census_data.Age)*1000)\n",
    "\n",
    "# for Children born five years ago\n",
    "birth_rate_4 = round(ChildrenAge_4/len(census_data.Age)*1000)\n",
    "\n",
    "# Printing the crude yearly birth rate per 1000 of the population\n",
    "print(f\"for children less than 1 Year, crude birth rate is: {birth_rate_0}\")\n",
    "print(f\"for children born 5 years age, crude birth rate is: {birth_rate_4}\")"
   ]
  },
  {
   "cell_type": "code",
   "execution_count": 63,
   "id": "9361688a",
   "metadata": {},
   "outputs": [
    {
     "name": "stdout",
     "output_type": "stream",
     "text": [
      "Female Fertility Rate  is 45.59585492227979 per 1000\n"
     ]
    }
   ],
   "source": [
    "# Crude Fertility rate of the Female Population  is gotten by calculating the number of women who are within the legal age of getting married\n",
    "# And the Biological age of naturally getting pregnant\n",
    "\n",
    "print(f\"Female Fertility Rate  is {(ChildrenAge_0/female_18_45)*1000 } per 1000\")"
   ]
  },
  {
   "cell_type": "markdown",
   "id": "8cd9b729",
   "metadata": {},
   "source": [
    "### Calculating the Death rate"
   ]
  },
  {
   "cell_type": "code",
   "execution_count": 64,
   "id": "af5fd788",
   "metadata": {},
   "outputs": [],
   "source": [
    "# # Using the age range of 10years and choosing thos between the ages of \n",
    "\n",
    "# # (50-59) for the lower age range\n",
    "# age_50_59 = (census_data.Age.between(50, 59)).sum()\n",
    "\n",
    "\n",
    "# # (60-69) for the upper age range\n",
    "# age_60_69 = (census_data.Age.between(60, 69)).sum()\n",
    "\n",
    "\n",
    "# # Difference in Age \n",
    "# print(f\"The difference in death is {age_50_59 - age_60_69}\")\n",
    "\n",
    "# # to Calculate the death rate per every 10000 people in the city annualy\n",
    "# # Note we deivide the result by 20 to get the actual yearly death rate\n",
    "# # The 20 if from the number of years between 50-59 years\n",
    "# print(f\"The death rate is: {round(((age_60_69/age_50_59)*1000)/20)} per 1000 people per annum\")"
   ]
  },
  {
   "cell_type": "code",
   "execution_count": 65,
   "id": "ab08083c",
   "metadata": {},
   "outputs": [],
   "source": [
    "# Calculating the number of people with each brackket form our dataset Agerange column\n",
    "# starting form 70 years and above\n",
    "ages_70_74 = census_data[census_data[\"Agerange\"] == \"70-74\" ].count()[0]\n",
    "ages_75_79 = census_data[census_data[\"Agerange\"] == \"75-79\" ].count()[0]\n",
    "ages_80_84 = census_data[census_data[\"Agerange\"] == \"80-84\" ].count()[0]\n",
    "ages_85_89 = census_data[census_data[\"Agerange\"] == \"85-89\" ].count()[0]\n",
    "ages_90_94 = census_data[census_data[\"Agerange\"] == \"90-94\" ].count()[0]\n",
    "ages_95_99 = census_data[census_data[\"Agerange\"] == \"95-99\" ].count()[0]\n",
    "ages_100_above= census_data[census_data[\"Agerange\"] == \"100+\" ].count()[0]\n",
    "\n",
    "\n",
    "# Calculating the the sume of difference in age between  the above age groups\n",
    "\n",
    "total_agerange_difference = [abs(ages_75_79-ages_70_74), abs(ages_80_84-ages_75_79), \n",
    "                             abs(ages_85_89-ages_80_84),  abs(ages_90_94-ages_85_89), \n",
    "                             abs(ages_95_99-ages_90_94),abs(ages_100_above-ages_95_99)] "
   ]
  },
  {
   "cell_type": "code",
   "execution_count": 66,
   "id": "735d6e29",
   "metadata": {},
   "outputs": [
    {
     "name": "stdout",
     "output_type": "stream",
     "text": [
      "5\n"
     ]
    }
   ],
   "source": [
    "# Crude Death Rate \n",
    "crude_death_rate = round((sum(total_agerange_difference)/(5*len(census_data)))*1000)\n",
    "print(crude_death_rate)"
   ]
  },
  {
   "cell_type": "markdown",
   "id": "d75c643d",
   "metadata": {},
   "source": [
    "##  DETAILED ANALYSIS OF THE OCCUPATION COLUMN"
   ]
  },
  {
   "cell_type": "markdown",
   "id": "ebfe9624",
   "metadata": {},
   "source": [
    "### FURTHER CLEANING"
   ]
  },
  {
   "cell_type": "code",
   "execution_count": 67,
   "id": "5e03905f",
   "metadata": {},
   "outputs": [],
   "source": [
    "## Here will will be looking at the different occupations in the city.\n",
    "# Notable Features to idenitfy will be Commutters to determine if there is need to biuld a train station for the city in feature\n",
    "# I discovered that there are people who are above 13 that their occupation was inputed as child"
   ]
  },
  {
   "cell_type": "code",
   "execution_count": 68,
   "id": "f44fecf5",
   "metadata": {},
   "outputs": [],
   "source": [
    "# Since the Legal age of retirement in the UK is 65 years, their any body who is 65 years and above and is occupation is unemplyed\n",
    "# His occupation will be changed to Retired\n",
    "\n",
    "census_data.loc[(census_data[\"Occupation\"]== \"Unemployed\") & (census_data.Age > 65), \"Occupation\"]= \"Retired\""
   ]
  },
  {
   "cell_type": "code",
   "execution_count": 69,
   "id": "9cf74fbe",
   "metadata": {},
   "outputs": [],
   "source": [
    "# Re_assigning the contents of the Occupation column in the dataset to get a better distribution statistics of the labels based on Age\n",
    "census_data.loc[census_data[\"Occupation\"] == \"Child\", \"Occupation\"]= \"Child\"\n",
    "census_data.loc[census_data[\"Occupation\"] == \"Unemployed\", \"Occupation\"]= \"Unemployed\"\n",
    "census_data.loc[census_data[\"Occupation\"] == \"Child psychotherapist\", \"Occupation\"]= \"Employed\"\n",
    "census_data.loc[census_data[\"Occupation\"].str.contains(\"Retired\"), \"Occupation\"] = \"Retired\"\n",
    "census_data.loc[census_data.Occupation.str.contains(\"Air|Professor|Air|lecturer|Academic|University Student|PhD Student\"), \"Occupation\"] = \"Commuter\"\n",
    "census_data.loc[~ census_data[\"Occupation\"].str.contains(\"Student|Unemployed|Retired|Child|Child psychotherapist|Commuter\"), \"Occupation\"] = \"Employed\"\n",
    "\n"
   ]
  },
  {
   "cell_type": "code",
   "execution_count": 70,
   "id": "5bf140e5",
   "metadata": {},
   "outputs": [
    {
     "data": {
      "text/html": [
       "<div>\n",
       "<style scoped>\n",
       "    .dataframe tbody tr th:only-of-type {\n",
       "        vertical-align: middle;\n",
       "    }\n",
       "\n",
       "    .dataframe tbody tr th {\n",
       "        vertical-align: top;\n",
       "    }\n",
       "\n",
       "    .dataframe thead th {\n",
       "        text-align: right;\n",
       "    }\n",
       "</style>\n",
       "<table border=\"1\" class=\"dataframe\">\n",
       "  <thead>\n",
       "    <tr style=\"text-align: right;\">\n",
       "      <th></th>\n",
       "      <th>Occupation Label</th>\n",
       "      <th>Value Counts</th>\n",
       "    </tr>\n",
       "  </thead>\n",
       "  <tbody>\n",
       "    <tr>\n",
       "      <th>0</th>\n",
       "      <td>Employed</td>\n",
       "      <td>4348</td>\n",
       "    </tr>\n",
       "    <tr>\n",
       "      <th>1</th>\n",
       "      <td>Student</td>\n",
       "      <td>1669</td>\n",
       "    </tr>\n",
       "    <tr>\n",
       "      <th>2</th>\n",
       "      <td>Retired</td>\n",
       "      <td>693</td>\n",
       "    </tr>\n",
       "    <tr>\n",
       "      <th>3</th>\n",
       "      <td>Commuter</td>\n",
       "      <td>643</td>\n",
       "    </tr>\n",
       "    <tr>\n",
       "      <th>4</th>\n",
       "      <td>Child</td>\n",
       "      <td>500</td>\n",
       "    </tr>\n",
       "    <tr>\n",
       "      <th>5</th>\n",
       "      <td>Unemployed</td>\n",
       "      <td>476</td>\n",
       "    </tr>\n",
       "  </tbody>\n",
       "</table>\n",
       "</div>"
      ],
      "text/plain": [
       "  Occupation Label  Value Counts\n",
       "0         Employed          4348\n",
       "1          Student          1669\n",
       "2          Retired           693\n",
       "3         Commuter           643\n",
       "4            Child           500\n",
       "5       Unemployed           476"
      ]
     },
     "execution_count": 70,
     "metadata": {},
     "output_type": "execute_result"
    }
   ],
   "source": [
    "# Dataset for my occupation labels\n",
    "occupation_counts = census_data[\"Occupation\"].value_counts().rename_axis(\"Occupation Label\").reset_index(name=\"Value Counts\")\n",
    "occupation_counts"
   ]
  },
  {
   "cell_type": "code",
   "execution_count": 72,
   "id": "cd06c16a",
   "metadata": {},
   "outputs": [
    {
     "data": {
      "text/plain": [
       "8329"
      ]
     },
     "execution_count": 72,
     "metadata": {},
     "output_type": "execute_result"
    }
   ],
   "source": [
    "occupation_counts[\"Value Counts\"].sum()"
   ]
  },
  {
   "cell_type": "code",
   "execution_count": 73,
   "id": "ca92ed16",
   "metadata": {},
   "outputs": [
    {
     "data": {
      "image/png": "[encoded data removed]",
      "text/plain": [
       "<Figure size 1000x700 with 1 Axes>"
      ]
     },
     "metadata": {},
     "output_type": "display_data"
    }
   ],
   "source": [
    "# The Distribution of the Occupation Column based on age with a boxplot\n",
    "plt.figure(figsize=(10,7))\n",
    "sns.set_style(\"white\")\n",
    "Occupation_boxplot = sns.boxplot(data = census_data, x = \"Age\", y=\"Occupation\", palette=\"Spectral\").set(title=\"Occupation by Age Statistics Distribution\")\n",
    "plt.tight_layout()\n",
    "plt.savefig(\"Occupation Boxplot\")"
   ]
  },
  {
   "cell_type": "code",
   "execution_count": 74,
   "id": "7b0eda1f",
   "metadata": {},
   "outputs": [
    {
     "data": {
      "text/html": [
       "<div>\n",
       "<style scoped>\n",
       "    .dataframe tbody tr th:only-of-type {\n",
       "        vertical-align: middle;\n",
       "    }\n",
       "\n",
       "    .dataframe tbody tr th {\n",
       "        vertical-align: top;\n",
       "    }\n",
       "\n",
       "    .dataframe thead tr th {\n",
       "        text-align: left;\n",
       "    }\n",
       "\n",
       "    .dataframe thead tr:last-of-type th {\n",
       "        text-align: right;\n",
       "    }\n",
       "</style>\n",
       "<table border=\"1\" class=\"dataframe\">\n",
       "  <thead>\n",
       "    <tr>\n",
       "      <th></th>\n",
       "      <th colspan=\"8\" halign=\"left\">Age</th>\n",
       "    </tr>\n",
       "    <tr>\n",
       "      <th></th>\n",
       "      <th>count</th>\n",
       "      <th>mean</th>\n",
       "      <th>std</th>\n",
       "      <th>min</th>\n",
       "      <th>25%</th>\n",
       "      <th>50%</th>\n",
       "      <th>75%</th>\n",
       "      <th>max</th>\n",
       "    </tr>\n",
       "    <tr>\n",
       "      <th>Occupation</th>\n",
       "      <th></th>\n",
       "      <th></th>\n",
       "      <th></th>\n",
       "      <th></th>\n",
       "      <th></th>\n",
       "      <th></th>\n",
       "      <th></th>\n",
       "      <th></th>\n",
       "    </tr>\n",
       "  </thead>\n",
       "  <tbody>\n",
       "    <tr>\n",
       "      <th>Child</th>\n",
       "      <td>500.0</td>\n",
       "      <td>2.098000</td>\n",
       "      <td>1.377022</td>\n",
       "      <td>0.0</td>\n",
       "      <td>1.00</td>\n",
       "      <td>2.0</td>\n",
       "      <td>3.0</td>\n",
       "      <td>4.0</td>\n",
       "    </tr>\n",
       "    <tr>\n",
       "      <th>Commuter</th>\n",
       "      <td>643.0</td>\n",
       "      <td>22.959565</td>\n",
       "      <td>8.200272</td>\n",
       "      <td>18.0</td>\n",
       "      <td>19.00</td>\n",
       "      <td>21.0</td>\n",
       "      <td>22.0</td>\n",
       "      <td>65.0</td>\n",
       "    </tr>\n",
       "    <tr>\n",
       "      <th>Employed</th>\n",
       "      <td>4348.0</td>\n",
       "      <td>42.850736</td>\n",
       "      <td>12.016783</td>\n",
       "      <td>19.0</td>\n",
       "      <td>33.00</td>\n",
       "      <td>42.0</td>\n",
       "      <td>52.0</td>\n",
       "      <td>71.0</td>\n",
       "    </tr>\n",
       "    <tr>\n",
       "      <th>Retired</th>\n",
       "      <td>693.0</td>\n",
       "      <td>76.089466</td>\n",
       "      <td>7.034849</td>\n",
       "      <td>66.0</td>\n",
       "      <td>70.00</td>\n",
       "      <td>74.0</td>\n",
       "      <td>80.0</td>\n",
       "      <td>106.0</td>\n",
       "    </tr>\n",
       "    <tr>\n",
       "      <th>Student</th>\n",
       "      <td>1669.0</td>\n",
       "      <td>11.485321</td>\n",
       "      <td>3.991064</td>\n",
       "      <td>5.0</td>\n",
       "      <td>8.00</td>\n",
       "      <td>11.0</td>\n",
       "      <td>15.0</td>\n",
       "      <td>18.0</td>\n",
       "    </tr>\n",
       "    <tr>\n",
       "      <th>Unemployed</th>\n",
       "      <td>476.0</td>\n",
       "      <td>41.819328</td>\n",
       "      <td>10.803748</td>\n",
       "      <td>22.0</td>\n",
       "      <td>33.75</td>\n",
       "      <td>41.0</td>\n",
       "      <td>50.0</td>\n",
       "      <td>65.0</td>\n",
       "    </tr>\n",
       "  </tbody>\n",
       "</table>\n",
       "</div>"
      ],
      "text/plain": [
       "               Age                                                      \n",
       "             count       mean        std   min    25%   50%   75%    max\n",
       "Occupation                                                              \n",
       "Child        500.0   2.098000   1.377022   0.0   1.00   2.0   3.0    4.0\n",
       "Commuter     643.0  22.959565   8.200272  18.0  19.00  21.0  22.0   65.0\n",
       "Employed    4348.0  42.850736  12.016783  19.0  33.00  42.0  52.0   71.0\n",
       "Retired      693.0  76.089466   7.034849  66.0  70.00  74.0  80.0  106.0\n",
       "Student     1669.0  11.485321   3.991064   5.0   8.00  11.0  15.0   18.0\n",
       "Unemployed   476.0  41.819328  10.803748  22.0  33.75  41.0  50.0   65.0"
      ]
     },
     "execution_count": 74,
     "metadata": {},
     "output_type": "execute_result"
    }
   ],
   "source": [
    "# Getting a statistical distribution of the Age based on occupation\n",
    "census_data[[\"Age\", \"Occupation\"]].groupby(\"Occupation\").describe()"
   ]
  },
  {
   "cell_type": "code",
   "execution_count": 75,
   "id": "556e4d57",
   "metadata": {},
   "outputs": [
    {
     "data": {
      "image/png": "[encoded data removed]",
      "text/plain": [
       "<Figure size 1000x500 with 1 Axes>"
      ]
     },
     "metadata": {},
     "output_type": "display_data"
    }
   ],
   "source": [
    "# Ploting the plot of the distribution based on the labels in the dataset\n",
    "\n",
    "\n",
    "plt.figure(figsize=(10,5))\n",
    "sns.set_style(\"white\")\n",
    "\n",
    "occupation =sns.barplot( data = occupation_counts, y=\"Occupation Label\", x = \"Value Counts\", palette=\"Spectral\", width=0.6)\n",
    "occupation.set_title(\"Occupation Value Count(%)\")\n",
    "\n",
    "total = occupation_counts['Value Counts'].sum()\n",
    "for p in occupation.patches:\n",
    "        percentage = '{:.1f}%'.format((p.get_width()/total)*100)\n",
    "        x = p.get_x() + p.get_width() + 0.02\n",
    "        y = p.get_y() + p.get_height()/2\n",
    "        occupation.annotate(percentage, (x, y))\n",
    "occupation.spines[['top', 'right']].set_visible(False)\n",
    "#saving the figure\n",
    "plt.tight_layout()\n",
    "plt.savefig(\"occupation\")\n",
    "plt.show()"
   ]
  },
  {
   "cell_type": "markdown",
   "id": "5d582d57",
   "metadata": {},
   "source": [
    "## For The Marital Status Column"
   ]
  },
  {
   "cell_type": "code",
   "execution_count": 76,
   "id": "b3ee6f41",
   "metadata": {},
   "outputs": [],
   "source": [
    "# The purpose here is to determine the divorce and marriage rate which will help us to detemine the rate of Emmigration form the town\n",
    "# This will be determine by the Divorce rate based on the male and female in the city"
   ]
  },
  {
   "cell_type": "code",
   "execution_count": 77,
   "id": "0e444396",
   "metadata": {},
   "outputs": [
    {
     "data": {
      "text/plain": [
       "array(['Single', 'Married', 'Divorced', 'Not Applicable', 'Widowed'],\n",
       "      dtype=object)"
      ]
     },
     "execution_count": 77,
     "metadata": {},
     "output_type": "execute_result"
    }
   ],
   "source": [
    "# Checking the unique labels in the Marital Status Column\n",
    "census_data[\"Marital Status\"].unique()"
   ]
  },
  {
   "cell_type": "code",
   "execution_count": 78,
   "id": "0788ffed",
   "metadata": {},
   "outputs": [
    {
     "data": {
      "text/html": [
       "<div>\n",
       "<style scoped>\n",
       "    .dataframe tbody tr th:only-of-type {\n",
       "        vertical-align: middle;\n",
       "    }\n",
       "\n",
       "    .dataframe tbody tr th {\n",
       "        vertical-align: top;\n",
       "    }\n",
       "\n",
       "    .dataframe thead tr th {\n",
       "        text-align: left;\n",
       "    }\n",
       "\n",
       "    .dataframe thead tr:last-of-type th {\n",
       "        text-align: right;\n",
       "    }\n",
       "</style>\n",
       "<table border=\"1\" class=\"dataframe\">\n",
       "  <thead>\n",
       "    <tr>\n",
       "      <th></th>\n",
       "      <th colspan=\"8\" halign=\"left\">Age</th>\n",
       "    </tr>\n",
       "    <tr>\n",
       "      <th></th>\n",
       "      <th>count</th>\n",
       "      <th>mean</th>\n",
       "      <th>std</th>\n",
       "      <th>min</th>\n",
       "      <th>25%</th>\n",
       "      <th>50%</th>\n",
       "      <th>75%</th>\n",
       "      <th>max</th>\n",
       "    </tr>\n",
       "    <tr>\n",
       "      <th>Marital Status</th>\n",
       "      <th></th>\n",
       "      <th></th>\n",
       "      <th></th>\n",
       "      <th></th>\n",
       "      <th></th>\n",
       "      <th></th>\n",
       "      <th></th>\n",
       "      <th></th>\n",
       "    </tr>\n",
       "  </thead>\n",
       "  <tbody>\n",
       "    <tr>\n",
       "      <th>Divorced</th>\n",
       "      <td>744.0</td>\n",
       "      <td>40.983871</td>\n",
       "      <td>16.728044</td>\n",
       "      <td>18.0</td>\n",
       "      <td>28.0</td>\n",
       "      <td>39.0</td>\n",
       "      <td>50.0</td>\n",
       "      <td>102.0</td>\n",
       "    </tr>\n",
       "    <tr>\n",
       "      <th>Married</th>\n",
       "      <td>2226.0</td>\n",
       "      <td>50.307727</td>\n",
       "      <td>15.965950</td>\n",
       "      <td>16.0</td>\n",
       "      <td>38.0</td>\n",
       "      <td>49.0</td>\n",
       "      <td>62.0</td>\n",
       "      <td>106.0</td>\n",
       "    </tr>\n",
       "    <tr>\n",
       "      <th>Not Applicable</th>\n",
       "      <td>2056.0</td>\n",
       "      <td>8.845817</td>\n",
       "      <td>5.053973</td>\n",
       "      <td>0.0</td>\n",
       "      <td>5.0</td>\n",
       "      <td>9.0</td>\n",
       "      <td>13.0</td>\n",
       "      <td>17.0</td>\n",
       "    </tr>\n",
       "    <tr>\n",
       "      <th>Single</th>\n",
       "      <td>2943.0</td>\n",
       "      <td>37.691471</td>\n",
       "      <td>14.153906</td>\n",
       "      <td>18.0</td>\n",
       "      <td>25.0</td>\n",
       "      <td>37.0</td>\n",
       "      <td>48.0</td>\n",
       "      <td>97.0</td>\n",
       "    </tr>\n",
       "    <tr>\n",
       "      <th>Widowed</th>\n",
       "      <td>360.0</td>\n",
       "      <td>62.061111</td>\n",
       "      <td>20.374943</td>\n",
       "      <td>18.0</td>\n",
       "      <td>45.0</td>\n",
       "      <td>68.0</td>\n",
       "      <td>76.0</td>\n",
       "      <td>105.0</td>\n",
       "    </tr>\n",
       "  </tbody>\n",
       "</table>\n",
       "</div>"
      ],
      "text/plain": [
       "                   Age                                                     \n",
       "                 count       mean        std   min   25%   50%   75%    max\n",
       "Marital Status                                                             \n",
       "Divorced         744.0  40.983871  16.728044  18.0  28.0  39.0  50.0  102.0\n",
       "Married         2226.0  50.307727  15.965950  16.0  38.0  49.0  62.0  106.0\n",
       "Not Applicable  2056.0   8.845817   5.053973   0.0   5.0   9.0  13.0   17.0\n",
       "Single          2943.0  37.691471  14.153906  18.0  25.0  37.0  48.0   97.0\n",
       "Widowed          360.0  62.061111  20.374943  18.0  45.0  68.0  76.0  105.0"
      ]
     },
     "execution_count": 78,
     "metadata": {},
     "output_type": "execute_result"
    }
   ],
   "source": [
    "# Getting a statistical distribution of the Marital Status based on Age\n",
    "census_data[[\"Age\", \"Marital Status\"]].groupby(\"Marital Status\").describe()"
   ]
  },
  {
   "cell_type": "code",
   "execution_count": 79,
   "id": "71f0ab3b",
   "metadata": {},
   "outputs": [
    {
     "data": {
      "image/png": "[encoded data removed]",
      "text/plain": [
       "<Figure size 1000x700 with 1 Axes>"
      ]
     },
     "metadata": {},
     "output_type": "display_data"
    }
   ],
   "source": [
    "# A box plot of the marital status variables\n",
    "plt.figure(figsize=(10,7))\n",
    "sns.set_style(\"white\")\n",
    "Marital_boxplot = sns.boxplot(y=census_data[\"Marital Status\"], x = census_data.Age, palette = \"Spectral\").set(title = \"Religion by Age Statistics Distribution\")\n",
    "plt.tight_layout()\n",
    "plt.savefig(\"MaritalBoxplot.png\")"
   ]
  },
  {
   "cell_type": "code",
   "execution_count": 80,
   "id": "dfbc208b",
   "metadata": {},
   "outputs": [
    {
     "data": {
      "image/png": "[encoded data removed]",
      "text/plain": [
       "<Figure size 1000x500 with 1 Axes>"
      ]
     },
     "metadata": {},
     "output_type": "display_data"
    }
   ],
   "source": [
    "# Counting all the values in the marital Status\n",
    "Marital_Status = census_data[\"Marital Status\"].value_counts().rename_axis(\"Marital Status\").reset_index(name=\"Value Counts\")\n",
    "\n",
    "\n",
    "# Plotting the values of the marital Status\n",
    "plt.figure(figsize=(10,5))\n",
    "sns.set_style(\"white\")\n",
    "Maritalplot= sns.barplot(y=\"Marital Status\", x=\"Value Counts\", data=Marital_Status, palette= \"Spectral\", width=0.6)\n",
    "Maritalplot.set_title(\"Marital Status Value(%)\")\n",
    "total = Marital_Status['Value Counts'].sum()\n",
    "for p in Maritalplot.patches:\n",
    "        percentage = '{:.1f}%'.format((p.get_width()/total)*100)\n",
    "        x = p.get_x() + p.get_width() + 0.02\n",
    "        y = p.get_y() + p.get_height()/2\n",
    "        Maritalplot.annotate(percentage, (x, y))\n",
    "Maritalplot.spines[['top', 'right']].set_visible(False)\n",
    "plt.tight_layout()\n",
    "plt.savefig(\"Marital plot\")\n",
    "\n",
    "plt.show()"
   ]
  },
  {
   "cell_type": "code",
   "execution_count": 81,
   "id": "3af3cc0a",
   "metadata": {},
   "outputs": [
    {
     "data": {
      "text/html": [
       "<div>\n",
       "<style scoped>\n",
       "    .dataframe tbody tr th:only-of-type {\n",
       "        vertical-align: middle;\n",
       "    }\n",
       "\n",
       "    .dataframe tbody tr th {\n",
       "        vertical-align: top;\n",
       "    }\n",
       "\n",
       "    .dataframe thead th {\n",
       "        text-align: right;\n",
       "    }\n",
       "</style>\n",
       "<table border=\"1\" class=\"dataframe\">\n",
       "  <thead>\n",
       "    <tr style=\"text-align: right;\">\n",
       "      <th></th>\n",
       "      <th>Marital Status</th>\n",
       "      <th>Value Counts</th>\n",
       "    </tr>\n",
       "  </thead>\n",
       "  <tbody>\n",
       "    <tr>\n",
       "      <th>0</th>\n",
       "      <td>Single</td>\n",
       "      <td>2943</td>\n",
       "    </tr>\n",
       "    <tr>\n",
       "      <th>1</th>\n",
       "      <td>Married</td>\n",
       "      <td>2226</td>\n",
       "    </tr>\n",
       "    <tr>\n",
       "      <th>2</th>\n",
       "      <td>Not Applicable</td>\n",
       "      <td>2056</td>\n",
       "    </tr>\n",
       "    <tr>\n",
       "      <th>3</th>\n",
       "      <td>Divorced</td>\n",
       "      <td>744</td>\n",
       "    </tr>\n",
       "    <tr>\n",
       "      <th>4</th>\n",
       "      <td>Widowed</td>\n",
       "      <td>360</td>\n",
       "    </tr>\n",
       "  </tbody>\n",
       "</table>\n",
       "</div>"
      ],
      "text/plain": [
       "   Marital Status  Value Counts\n",
       "0          Single          2943\n",
       "1         Married          2226\n",
       "2  Not Applicable          2056\n",
       "3        Divorced           744\n",
       "4         Widowed           360"
      ]
     },
     "execution_count": 81,
     "metadata": {},
     "output_type": "execute_result"
    }
   ],
   "source": [
    "#Marital Status categories Value_counts\n",
    "Marital_Status"
   ]
  },
  {
   "cell_type": "code",
   "execution_count": 82,
   "id": "f4cb9e11",
   "metadata": {},
   "outputs": [
    {
     "data": {
      "image/png": "[encoded data removed]",
      "text/plain": [
       "<Figure size 600x400 with 1 Axes>"
      ]
     },
     "metadata": {},
     "output_type": "display_data"
    }
   ],
   "source": [
    "# Plot of the towns divorce rate based on gender\n",
    "# Extrating the data needed for the new dataset\n",
    "Divorced_female = census_data[(census_data[\"Marital Status\"] == \"Divorced\") & (census_data.Gender == \"Female\")].count()[0]\n",
    "Divorced_male = census_data[(census_data[\"Marital Status\"] == \"Divorced\") & (census_data.Gender == \"Male\")].count()[0]\n",
    "\n",
    "Divorces = pd.DataFrame({\n",
    "    \"Label\": [\"Female\", \"Male\"],\n",
    "    \"Values\": [Divorced_female, Divorced_male]\n",
    "})\n",
    "Divorces\n",
    "\n",
    "#plottting the Marital Status Values\n",
    "plt.figure(figsize=(6,4))\n",
    "sns.set_style(\"white\")\n",
    "divorce = sns.barplot(y=Divorces.Label, x = Divorces.Values, width = 0.3, palette=\"Spectral\")\n",
    "divorce.set_title(\"Divorce by Gender(%)\")\n",
    "total = Divorces['Values'].sum()\n",
    "for p in divorce.patches:\n",
    "        percentage = '{:.1f}%'.format((p.get_width()/total)*100)\n",
    "        x = p.get_x() + p.get_width() + 0.02\n",
    "        y = p.get_y() + p.get_height()/2\n",
    "        divorce.annotate(percentage, (x, y))\n",
    "divorce.spines[['top', 'right']].set_visible(False)\n",
    "plt.tight_layout()\n",
    "plt.savefig(\"divorce\")\n",
    "plt.show()"
   ]
  },
  {
   "cell_type": "markdown",
   "id": "1d223c95",
   "metadata": {},
   "source": [
    "## Calculating the Immgrants in the city and emigrants from the city"
   ]
  },
  {
   "cell_type": "code",
   "execution_count": 83,
   "id": "32561b9e",
   "metadata": {},
   "outputs": [
    {
     "name": "stdout",
     "output_type": "stream",
     "text": [
      "The Number of immigrants is 339\n"
     ]
    }
   ],
   "source": [
    "# immigrants are mostly number of lodgers who are not divorces and Visitors\n",
    "\n",
    "immigrants = census_data[(~(census_data[\"Marital Status\"]==\"Divorced\")) & \n",
    "                       (census_data[\"Relationship to Head of House\"].str.contains(\"Lodger|Visitor\"))].count()[0]\n",
    "print(f\"The Number of immigrants is {immigrants}\")"
   ]
  },
  {
   "cell_type": "markdown",
   "id": "ee4e5e08",
   "metadata": {},
   "source": [
    "### Calculating average based the Divorce Rate"
   ]
  },
  {
   "cell_type": "code",
   "execution_count": 84,
   "id": "0a4e6a87",
   "metadata": {},
   "outputs": [
    {
     "name": "stdout",
     "output_type": "stream",
     "text": [
      "Average divorce rate is 11.6 per annum\n",
      "Average Married married 24.9 per annum\n",
      "Divorce rate is: 1.3927242165926281 1000 per annum\n"
     ]
    }
   ],
   "source": [
    "# Calculating the divorce rate\n",
    "# I will take the average divorce rate for women near the uk Average divorce rate of age over a 3 years period\n",
    "# The marraige rate will be the number of divorced women plus the number of married women.\n",
    "\n",
    "divorced_women_5 = census_data[(census_data.Age.between(39, 43))  & (census_data[\"Marital Status\"] == \"Divorced\") & (census_data.Gender ==\"Female\")].count()[0]\n",
    "divorced_women_per_anum = divorced_women_5/5\n",
    "print(f\"Average divorce rate is {divorced_women_per_anum} per annum\")\n",
    "\n",
    "\n",
    "# Divorced Women between the same age bracket \n",
    "# The 5 represets the 5 years range while the 2 is used to divide to get the numbe of married woemn form the total number of married\n",
    "married_women_5 = census_data[(census_data.Age.between(39, 43))  & (census_data[\"Marital Status\"] == \"Married\")].count()[0]\n",
    "married_women_per_anum = married_women_5/(5*2)\n",
    "print(f\"Average Married married {married_women_per_anum} per annum\")\n",
    "\n",
    "# To calculate the divorce rate per married population\n",
    "divorce_rate = (divorced_women_per_anum/(len(census_data)))*1000\n",
    "print(f\"Divorce rate is: {divorce_rate} 1000 per annum\")"
   ]
  },
  {
   "cell_type": "markdown",
   "id": "64ada4d7",
   "metadata": {},
   "source": [
    "### Calculating the Emigrant  Rate"
   ]
  },
  {
   "cell_type": "code",
   "execution_count": 86,
   "id": "1f09461e",
   "metadata": {},
   "outputs": [
    {
     "name": "stdout",
     "output_type": "stream",
     "text": [
      " the number of Emigrants is 146\n"
     ]
    }
   ],
   "source": [
    "# Emmigrants mostly university students and PhD  students\n",
    "Emmigrants = Divorced_female - Divorced_male\n",
    "print(f\" the number of Emigrants is {Emmigrants}\")"
   ]
  },
  {
   "cell_type": "markdown",
   "id": "4858a03a",
   "metadata": {},
   "source": [
    "## House Occupancy Rate"
   ]
  },
  {
   "cell_type": "code",
   "execution_count": 87,
   "id": "30c18be4",
   "metadata": {},
   "outputs": [],
   "source": [
    "# Here i will examine the number of people licing in a house to determine the todtal \n",
    "# if the houses are being overused\n",
    "# This will help detemine if the city need to invest in housing infrastucture"
   ]
  },
  {
   "cell_type": "code",
   "execution_count": 88,
   "id": "3f871174",
   "metadata": {},
   "outputs": [
    {
     "name": "stdout",
     "output_type": "stream",
     "text": [
      "          Street  House Number  Number of People\n",
      "0  Alba Crescent             1                 2\n",
      "1  Alba Crescent             2                 1\n",
      "2  Alba Crescent             3                 1\n",
      "3  Alba Crescent             4                 1\n",
      "4  Alba Crescent             5                 2\n"
     ]
    }
   ],
   "source": [
    "# Getting the total house Occupancy rate by group the \"Street\" and \"House number\" and\n",
    "\n",
    "People_per_house = census_data.groupby([\"Street\", \"House Number\"]).size().reset_index(name=\"Number of People\")\n",
    "#Printing the number of people per house to examine the values\n",
    "print(People_per_house.head())    "
   ]
  },
  {
   "cell_type": "code",
   "execution_count": 89,
   "id": "beaabb18",
   "metadata": {},
   "outputs": [
    {
     "data": {
      "text/html": [
       "<div>\n",
       "<style scoped>\n",
       "    .dataframe tbody tr th:only-of-type {\n",
       "        vertical-align: middle;\n",
       "    }\n",
       "\n",
       "    .dataframe tbody tr th {\n",
       "        vertical-align: top;\n",
       "    }\n",
       "\n",
       "    .dataframe thead th {\n",
       "        text-align: right;\n",
       "    }\n",
       "</style>\n",
       "<table border=\"1\" class=\"dataframe\">\n",
       "  <thead>\n",
       "    <tr style=\"text-align: right;\">\n",
       "      <th></th>\n",
       "      <th>House Occupancy</th>\n",
       "      <th>counts</th>\n",
       "    </tr>\n",
       "  </thead>\n",
       "  <tbody>\n",
       "    <tr>\n",
       "      <th>1</th>\n",
       "      <td>1</td>\n",
       "      <td>697</td>\n",
       "    </tr>\n",
       "    <tr>\n",
       "      <th>0</th>\n",
       "      <td>2</td>\n",
       "      <td>725</td>\n",
       "    </tr>\n",
       "    <tr>\n",
       "      <th>3</th>\n",
       "      <td>3</td>\n",
       "      <td>446</td>\n",
       "    </tr>\n",
       "    <tr>\n",
       "      <th>2</th>\n",
       "      <td>4</td>\n",
       "      <td>479</td>\n",
       "    </tr>\n",
       "    <tr>\n",
       "      <th>4</th>\n",
       "      <td>5</td>\n",
       "      <td>313</td>\n",
       "    </tr>\n",
       "    <tr>\n",
       "      <th>5</th>\n",
       "      <td>6</td>\n",
       "      <td>80</td>\n",
       "    </tr>\n",
       "    <tr>\n",
       "      <th>6</th>\n",
       "      <td>7</td>\n",
       "      <td>21</td>\n",
       "    </tr>\n",
       "    <tr>\n",
       "      <th>10</th>\n",
       "      <td>8</td>\n",
       "      <td>9</td>\n",
       "    </tr>\n",
       "    <tr>\n",
       "      <th>11</th>\n",
       "      <td>9</td>\n",
       "      <td>9</td>\n",
       "    </tr>\n",
       "    <tr>\n",
       "      <th>8</th>\n",
       "      <td>10</td>\n",
       "      <td>10</td>\n",
       "    </tr>\n",
       "    <tr>\n",
       "      <th>9</th>\n",
       "      <td>11</td>\n",
       "      <td>10</td>\n",
       "    </tr>\n",
       "    <tr>\n",
       "      <th>7</th>\n",
       "      <td>12</td>\n",
       "      <td>12</td>\n",
       "    </tr>\n",
       "    <tr>\n",
       "      <th>17</th>\n",
       "      <td>14</td>\n",
       "      <td>1</td>\n",
       "    </tr>\n",
       "    <tr>\n",
       "      <th>12</th>\n",
       "      <td>15</td>\n",
       "      <td>3</td>\n",
       "    </tr>\n",
       "    <tr>\n",
       "      <th>15</th>\n",
       "      <td>16</td>\n",
       "      <td>2</td>\n",
       "    </tr>\n",
       "    <tr>\n",
       "      <th>13</th>\n",
       "      <td>18</td>\n",
       "      <td>3</td>\n",
       "    </tr>\n",
       "    <tr>\n",
       "      <th>14</th>\n",
       "      <td>20</td>\n",
       "      <td>2</td>\n",
       "    </tr>\n",
       "    <tr>\n",
       "      <th>16</th>\n",
       "      <td>22</td>\n",
       "      <td>2</td>\n",
       "    </tr>\n",
       "  </tbody>\n",
       "</table>\n",
       "</div>"
      ],
      "text/plain": [
       "    House Occupancy  counts\n",
       "1                 1     697\n",
       "0                 2     725\n",
       "3                 3     446\n",
       "2                 4     479\n",
       "4                 5     313\n",
       "5                 6      80\n",
       "6                 7      21\n",
       "10                8       9\n",
       "11                9       9\n",
       "8                10      10\n",
       "9                11      10\n",
       "7                12      12\n",
       "17               14       1\n",
       "12               15       3\n",
       "15               16       2\n",
       "13               18       3\n",
       "14               20       2\n",
       "16               22       2"
      ]
     },
     "execution_count": 89,
     "metadata": {},
     "output_type": "execute_result"
    }
   ],
   "source": [
    "# House Occupancy Level based on the values of the data\n",
    "House_occupancy = People_per_house[\"Number of People\"].value_counts().rename_axis(\"House Occupancy\").reset_index(name=\"counts\")\n",
    "\n",
    "#Sorting the values of the house Occupancy\n",
    "House_occupancy.sort_values(by=[\"House Occupancy\"])"
   ]
  },
  {
   "cell_type": "code",
   "execution_count": 90,
   "id": "516fefd2",
   "metadata": {},
   "outputs": [
    {
     "data": {
      "image/png": "[encoded data removed]",
      "text/plain": [
       "<Figure size 1000x600 with 1 Axes>"
      ]
     },
     "metadata": {},
     "output_type": "display_data"
    }
   ],
   "source": [
    "# Plotting the House Occcupancy rate \n",
    "plt.figure(figsize=(10,6))\n",
    "sns.set_style(\"white\")\n",
    "occupancy = sns.barplot(data= House_occupancy, y=\"counts\", x=\"House Occupancy\" , palette = \"Spectral\").set(title = \"House Occupance Rate\", \n",
    "                                               ylabel = \"Total Count\", xlabel = \"Sum of people per Household\")\n",
    "\n",
    "plt.savefig(\"Occupancy rate\")"
   ]
  },
  {
   "cell_type": "code",
   "execution_count": 91,
   "id": "de586bbb",
   "metadata": {},
   "outputs": [],
   "source": [
    "# Next analysis will be to understand why the some houses have a high number of people livng in it\n",
    "# Note that since we dont have the number of total number of rooms in each house, we cannot accurately determine \n",
    "# if a household is overused or not"
   ]
  },
  {
   "cell_type": "markdown",
   "id": "db81816e",
   "metadata": {},
   "source": [
    "## Analysis of the towns Relgious Afiliations\n"
   ]
  },
  {
   "cell_type": "code",
   "execution_count": 92,
   "id": "b8d03c29",
   "metadata": {},
   "outputs": [],
   "source": [
    "# For the religion Column, we will examine the religious affiliations for town\n",
    "# This is to enable us determine if any particular religous group in growing significantly \n",
    "# as to warant the biulding of a new place of worship\n",
    "# Here we will use the boxplot and bar Plot"
   ]
  },
  {
   "cell_type": "code",
   "execution_count": 93,
   "id": "007db49d",
   "metadata": {},
   "outputs": [
    {
     "data": {
      "image/png": "[encoded data removed]",
      "text/plain": [
       "<Figure size 1000x500 with 1 Axes>"
      ]
     },
     "metadata": {},
     "output_type": "display_data"
    }
   ],
   "source": [
    "religion_counts = census_data[\"Religion\"].value_counts().rename_axis(\"Religion Label\").reset_index(name=\"Value Counts\")\n",
    "\n",
    "plt.figure(figsize=(10,5))\n",
    "sns.set_style(\"white\")\n",
    "religionplot= sns.barplot(y=\"Religion Label\", x=\"Value Counts\", data=religion_counts, palette= \"Spectral\")\n",
    "religionplot.set_title(\"Religion Value Couts(%)\")\n",
    "total = religion_counts['Value Counts'].sum()\n",
    "for p in religionplot.patches:\n",
    "        percentage = '{:.1f}%'.format((p.get_width()/total)*100)\n",
    "        x = p.get_x() + p.get_width() + 0.02\n",
    "        y = p.get_y() + p.get_height()/2\n",
    "        religionplot.annotate(percentage, (x, y))\n",
    "religionplot.spines[['top', 'right']].set_visible(False)\n",
    "plt.tight_layout()\n",
    "plt.savefig(\"religion plot\")\n",
    "\n",
    "plt.show()"
   ]
  },
  {
   "cell_type": "code",
   "execution_count": 94,
   "id": "a95931af",
   "metadata": {},
   "outputs": [
    {
     "data": {
      "image/png": "[encoded data removed]",
      "text/plain": [
       "<Figure size 800x600 with 1 Axes>"
      ]
     },
     "metadata": {},
     "output_type": "display_data"
    }
   ],
   "source": [
    "# The above plot shows that the three dorminant religion are christianity catholics and Methodist\n",
    "# Next we will use a boxplot to determine the age distribution of the each religious group\n",
    "\n",
    "# to evaluate the mean distribution of each religion agains the Age\n",
    "plt.figure(figsize=(8,6))\n",
    "sns.set_style(\"white\")\n",
    "Religion_boxplot = sns.boxplot(y=census_data.Religion, x = census_data.Age, palette = \"Spectral\").set(title = \"Religion by Age Statistics Distribution\")\n",
    "# Religion_boxplot.set_xticklabels(Religion_boxplot.get_xticklabels(), rotation=45)\n",
    "\n",
    "plt.tight_layout()\n",
    "#Saving the plot\n",
    "plt.savefig(\"Religion_boxplot.png\")"
   ]
  },
  {
   "cell_type": "markdown",
   "id": "a7dece24",
   "metadata": {},
   "source": [
    "## Analysis of the Towns Infirmity rate"
   ]
  },
  {
   "cell_type": "code",
   "execution_count": 95,
   "id": "7a8e94d0",
   "metadata": {},
   "outputs": [
    {
     "data": {
      "image/png": "[encoded data removed]",
      "text/plain": [
       "<Figure size 1000x500 with 1 Axes>"
      ]
     },
     "metadata": {},
     "output_type": "display_data"
    }
   ],
   "source": [
    "# This code if for using vount value without percentage in the plot\n",
    "infirmity_counts = census_data[\"Infirmity\"].value_counts().rename_axis(\"infirmity\").reset_index(name=\"count\")\n",
    "\n",
    "plt.figure(figsize=(10,5))\n",
    "sns.set_style(\"white\")\n",
    "infirmity = sns.barplot(x=\"infirmity\", y=\"count\", data=infirmity_counts, palette = \"Spectral\")\n",
    "infirmity.set_title(\"Infirmity Value Count\")\n",
    "infirmity.bar_label(infirmity.containers[0])\n",
    "infirmity.spines[['top', 'right']].set_visible(False)\n",
    "plt.xticks(rotation=45)\n",
    "plt.tight_layout()\n",
    "plt.savefig(\"infirmity\")"
   ]
  },
  {
   "cell_type": "markdown",
   "id": "a2092449",
   "metadata": {},
   "source": [
    "## Calculating the age Group likely to be Unemployed"
   ]
  },
  {
   "cell_type": "code",
   "execution_count": 96,
   "id": "76cf0f54",
   "metadata": {},
   "outputs": [
    {
     "data": {
      "text/html": [
       "<div>\n",
       "<style scoped>\n",
       "    .dataframe tbody tr th:only-of-type {\n",
       "        vertical-align: middle;\n",
       "    }\n",
       "\n",
       "    .dataframe tbody tr th {\n",
       "        vertical-align: top;\n",
       "    }\n",
       "\n",
       "    .dataframe thead th {\n",
       "        text-align: right;\n",
       "    }\n",
       "</style>\n",
       "<table border=\"1\" class=\"dataframe\">\n",
       "  <thead>\n",
       "    <tr style=\"text-align: right;\">\n",
       "      <th></th>\n",
       "      <th>Age</th>\n",
       "      <th>count</th>\n",
       "    </tr>\n",
       "  </thead>\n",
       "  <tbody>\n",
       "    <tr>\n",
       "      <th>0</th>\n",
       "      <td>41</td>\n",
       "      <td>27</td>\n",
       "    </tr>\n",
       "    <tr>\n",
       "      <th>1</th>\n",
       "      <td>40</td>\n",
       "      <td>23</td>\n",
       "    </tr>\n",
       "    <tr>\n",
       "      <th>2</th>\n",
       "      <td>35</td>\n",
       "      <td>21</td>\n",
       "    </tr>\n",
       "    <tr>\n",
       "      <th>3</th>\n",
       "      <td>43</td>\n",
       "      <td>18</td>\n",
       "    </tr>\n",
       "    <tr>\n",
       "      <th>4</th>\n",
       "      <td>50</td>\n",
       "      <td>17</td>\n",
       "    </tr>\n",
       "  </tbody>\n",
       "</table>\n",
       "</div>"
      ],
      "text/plain": [
       "   Age  count\n",
       "0   41     27\n",
       "1   40     23\n",
       "2   35     21\n",
       "3   43     18\n",
       "4   50     17"
      ]
     },
     "execution_count": 96,
     "metadata": {},
     "output_type": "execute_result"
    }
   ],
   "source": [
    "# Those unemployed\n",
    "unemployed = census_data[census_data.Occupation == \"Unemployed\"]\n",
    "\n",
    "# Getting the age value count for unemployed in the \n",
    "unemployed_age = unemployed[\"Age\"].value_counts().rename_axis(\"Age\").reset_index(name=\"count\")\n",
    "\n",
    "# Visualize the first five rows in the groop\n",
    "unemployed_age.head()"
   ]
  },
  {
   "cell_type": "code",
   "execution_count": 97,
   "id": "fe929afe",
   "metadata": {},
   "outputs": [],
   "source": [
    "# Creating a def function to group the Age of the unemployed in 5 years age group\n",
    "\n",
    "def unemployed(y):\n",
    "    if y <= 24:\n",
    "        return \"20-24\"\n",
    "    elif y <= 29:\n",
    "        return \"25-29\"\n",
    "    elif y <= 34:\n",
    "        return \"30-34\"\n",
    "    elif y <= 39:\n",
    "        return \"35-39\"\n",
    "    elif y <= 44:\n",
    "        return \"40-44\"\n",
    "    elif y <= 49:\n",
    "        return \"45-49\"\n",
    "    elif y <= 54:\n",
    "        return \"50-54\"\n",
    "    elif y <= 59:\n",
    "        return \"55-59\"\n",
    "    elif y <= 64:\n",
    "        return \"60-64\"\n",
    "    else:\n",
    "        return \"65-69\"\n",
    "    \n",
    "    "
   ]
  },
  {
   "cell_type": "code",
   "execution_count": 98,
   "id": "7bd16668",
   "metadata": {},
   "outputs": [
    {
     "data": {
      "text/html": [
       "<div>\n",
       "<style scoped>\n",
       "    .dataframe tbody tr th:only-of-type {\n",
       "        vertical-align: middle;\n",
       "    }\n",
       "\n",
       "    .dataframe tbody tr th {\n",
       "        vertical-align: top;\n",
       "    }\n",
       "\n",
       "    .dataframe thead th {\n",
       "        text-align: right;\n",
       "    }\n",
       "</style>\n",
       "<table border=\"1\" class=\"dataframe\">\n",
       "  <thead>\n",
       "    <tr style=\"text-align: right;\">\n",
       "      <th></th>\n",
       "      <th>Age</th>\n",
       "      <th>count</th>\n",
       "      <th>age_range</th>\n",
       "    </tr>\n",
       "  </thead>\n",
       "  <tbody>\n",
       "    <tr>\n",
       "      <th>0</th>\n",
       "      <td>41</td>\n",
       "      <td>27</td>\n",
       "      <td>40-44</td>\n",
       "    </tr>\n",
       "    <tr>\n",
       "      <th>1</th>\n",
       "      <td>40</td>\n",
       "      <td>23</td>\n",
       "      <td>40-44</td>\n",
       "    </tr>\n",
       "    <tr>\n",
       "      <th>2</th>\n",
       "      <td>35</td>\n",
       "      <td>21</td>\n",
       "      <td>35-39</td>\n",
       "    </tr>\n",
       "    <tr>\n",
       "      <th>3</th>\n",
       "      <td>43</td>\n",
       "      <td>18</td>\n",
       "      <td>40-44</td>\n",
       "    </tr>\n",
       "    <tr>\n",
       "      <th>4</th>\n",
       "      <td>50</td>\n",
       "      <td>17</td>\n",
       "      <td>50-54</td>\n",
       "    </tr>\n",
       "  </tbody>\n",
       "</table>\n",
       "</div>"
      ],
      "text/plain": [
       "   Age  count age_range\n",
       "0   41     27     40-44\n",
       "1   40     23     40-44\n",
       "2   35     21     35-39\n",
       "3   43     18     40-44\n",
       "4   50     17     50-54"
      ]
     },
     "execution_count": 98,
     "metadata": {},
     "output_type": "execute_result"
    }
   ],
   "source": [
    "# Applying the unemployed function to the unemplyed group c=age count\n",
    "unemployed_age[\"age_range\"] = unemployed_age[\"Age\"].apply(unemployed)\n",
    "\n",
    "# Viewing the first 5 rows \n",
    "unemployed_age.head()"
   ]
  },
  {
   "cell_type": "code",
   "execution_count": 99,
   "id": "06c9c1cd",
   "metadata": {},
   "outputs": [],
   "source": [
    "# Grouping the count column by the age_range groups\n",
    "unemployed_count = unemployed_age.groupby([\"age_range\"], as_index=False)[\"count\"].sum()"
   ]
  },
  {
   "cell_type": "code",
   "execution_count": 100,
   "id": "47a9f79b",
   "metadata": {},
   "outputs": [
    {
     "data": {
      "text/html": [
       "<div>\n",
       "<style scoped>\n",
       "    .dataframe tbody tr th:only-of-type {\n",
       "        vertical-align: middle;\n",
       "    }\n",
       "\n",
       "    .dataframe tbody tr th {\n",
       "        vertical-align: top;\n",
       "    }\n",
       "\n",
       "    .dataframe thead th {\n",
       "        text-align: right;\n",
       "    }\n",
       "</style>\n",
       "<table border=\"1\" class=\"dataframe\">\n",
       "  <thead>\n",
       "    <tr style=\"text-align: right;\">\n",
       "      <th></th>\n",
       "      <th>age_range</th>\n",
       "      <th>count</th>\n",
       "    </tr>\n",
       "  </thead>\n",
       "  <tbody>\n",
       "    <tr>\n",
       "      <th>0</th>\n",
       "      <td>20-24</td>\n",
       "      <td>17</td>\n",
       "    </tr>\n",
       "    <tr>\n",
       "      <th>1</th>\n",
       "      <td>25-29</td>\n",
       "      <td>49</td>\n",
       "    </tr>\n",
       "    <tr>\n",
       "      <th>2</th>\n",
       "      <td>30-34</td>\n",
       "      <td>68</td>\n",
       "    </tr>\n",
       "    <tr>\n",
       "      <th>3</th>\n",
       "      <td>35-39</td>\n",
       "      <td>71</td>\n",
       "    </tr>\n",
       "    <tr>\n",
       "      <th>4</th>\n",
       "      <td>40-44</td>\n",
       "      <td>94</td>\n",
       "    </tr>\n",
       "  </tbody>\n",
       "</table>\n",
       "</div>"
      ],
      "text/plain": [
       "  age_range  count\n",
       "0     20-24     17\n",
       "1     25-29     49\n",
       "2     30-34     68\n",
       "3     35-39     71\n",
       "4     40-44     94"
      ]
     },
     "execution_count": 100,
     "metadata": {},
     "output_type": "execute_result"
    }
   ],
   "source": [
    "unemployed_count.head()"
   ]
  },
  {
   "cell_type": "code",
   "execution_count": 101,
   "id": "a5c169cb",
   "metadata": {},
   "outputs": [
    {
     "data": {
      "image/png": "[encoded data removed]",
      "text/plain": [
       "<Figure size 2000x1000 with 1 Axes>"
      ]
     },
     "metadata": {},
     "output_type": "display_data"
    }
   ],
   "source": [
    "# Plot of the unemplyement age_range count values\n",
    "plt.figure(figsize=(10,5), dpi=200)\n",
    "sns.set_style(\"white\")\n",
    "unemployed_count = sns.barplot(data=unemployed_count, x=\"age_range\", y=\"count\", palette = \"Spectral\")\n",
    "unemployed_count.set_title(\"Unemployment by Age-range\")\n",
    "unemployed_count.bar_label(unemployed_count.containers[0])\n",
    "unemployed_count.spines[['top', 'right']].set_visible(False)\n",
    "plt.xticks(rotation=45)\n",
    "plt.tight_layout()\n",
    "\n",
    "plt.savefig(\"unemployed_count\")"
   ]
  },
  {
   "cell_type": "markdown",
   "id": "410a5a9f",
   "metadata": {},
   "source": [
    "## ADDITIONAL CALCULATIONS"
   ]
  },
  {
   "cell_type": "markdown",
   "id": "681e947e",
   "metadata": {},
   "source": [
    "## People who might need house of their own tomorrow\n",
    "### Those between 16 and 45 years, single, not Head of house and not University students "
   ]
  },
  {
   "cell_type": "code",
   "execution_count": 102,
   "id": "bd0c3af5",
   "metadata": {},
   "outputs": [
    {
     "name": "stdout",
     "output_type": "stream",
     "text": [
      "The percentage of population that may need accoomodation in the nearest future is 17%\n"
     ]
    }
   ],
   "source": [
    "# Those who might need a house tomorrow\n",
    "accomodation_needs = census_data[(census_data.Age.between(16, 45)) & (census_data[\"Marital Status\"] == \"Single\") & (~(census_data[\"Occupation\"] == \"University Student\")) &(~(census_data[\"Relationship to Head of House\"]==\"Head\"))].count()[0]\n",
    "\n",
    "\n",
    "# Their percentager in the overall population\n",
    "\n",
    "People_who_need_accomodation = round((accomodation_needs /len(census_data))*100)\n",
    "print(F\"The percentage of population that may need accoomodation in the nearest future is {People_who_need_accomodation}%\")"
   ]
  },
  {
   "cell_type": "code",
   "execution_count": 103,
   "id": "b8e50156",
   "metadata": {},
   "outputs": [
    {
     "data": {
      "text/plain": [
       "783"
      ]
     },
     "execution_count": 103,
     "metadata": {},
     "output_type": "execute_result"
    }
   ],
   "source": [
    "\n",
    "care_needs = census_data[(census_data.Age > 65)].count()[0]\n",
    "care_needs"
   ]
  },
  {
   "cell_type": "markdown",
   "id": "ca3d1d4b",
   "metadata": {},
   "source": [
    "## For Residents who might need care, we assumed those who are above 65 years(Official age of retirement). "
   ]
  },
  {
   "cell_type": "code",
   "execution_count": 104,
   "id": "19c312c2",
   "metadata": {},
   "outputs": [
    {
     "name": "stdout",
     "output_type": "stream",
     "text": [
      "The percentage of population that may need accoomodation in the nearest future is 9%\n"
     ]
    }
   ],
   "source": [
    "# Percentage population residents who might require care\n",
    "probable_care_need = round((care_needs /len(census_data))*100)\n",
    "print(F\"The percentage of population that may need care in the nearest future is {probable_care_need}%\")"
   ]
  }
 ],
 "metadata": {
  "kernelspec": {
   "display_name": "Python 3 (ipykernel)",
   "language": "python",
   "name": "python3"
  },
  "language_info": {
   "codemirror_mode": {
    "name": "ipython",
    "version": 3
   },
   "file_extension": ".py",
   "mimetype": "text/x-python",
   "name": "python",
   "nbconvert_exporter": "python",
   "pygments_lexer": "ipython3",
   "version": "3.11.1"
  }
 },
 "nbformat": 4,
 "nbformat_minor": 5
}
